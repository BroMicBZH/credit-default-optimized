{
 "cells": [
  {
   "cell_type": "code",
   "execution_count": 1,
   "id": "08e47211",
   "metadata": {
    "_cell_guid": "b1076dfc-b9ad-4769-8c92-a6c4dae69d19",
    "_uuid": "8f2839f25d086af736a60e9eeb907d3b93b6e0e5",
    "execution": {
     "iopub.execute_input": "2025-08-14T03:43:40.591546Z",
     "iopub.status.busy": "2025-08-14T03:43:40.591095Z",
     "iopub.status.idle": "2025-08-14T03:43:43.248616Z",
     "shell.execute_reply": "2025-08-14T03:43:43.247051Z"
    },
    "papermill": {
     "duration": 2.665723,
     "end_time": "2025-08-14T03:43:43.250924",
     "exception": false,
     "start_time": "2025-08-14T03:43:40.585201",
     "status": "completed"
    },
    "tags": []
   },
   "outputs": [
    {
     "name": "stdout",
     "output_type": "stream",
     "text": [
      "/kaggle/input/home-credit-default-risk/sample_submission.csv\n",
      "/kaggle/input/home-credit-default-risk/bureau_balance.csv\n",
      "/kaggle/input/home-credit-default-risk/POS_CASH_balance.csv\n",
      "/kaggle/input/home-credit-default-risk/application_train.csv\n",
      "/kaggle/input/home-credit-default-risk/HomeCredit_columns_description.csv\n",
      "/kaggle/input/home-credit-default-risk/application_test.csv\n",
      "/kaggle/input/home-credit-default-risk/previous_application.csv\n",
      "/kaggle/input/home-credit-default-risk/credit_card_balance.csv\n",
      "/kaggle/input/home-credit-default-risk/installments_payments.csv\n",
      "/kaggle/input/home-credit-default-risk/bureau.csv\n"
     ]
    }
   ],
   "source": [
    "# This Python 3 environment comes with many helpful analytics libraries installed\n",
    "# It is defined by the kaggle/python Docker image: https://github.com/kaggle/docker-python\n",
    "# For example, here's several helpful packages to load\n",
    "\n",
    "import numpy as np # linear algebra\n",
    "import pandas as pd # data processing, CSV file I/O (e.g. pd.read_csv)\n",
    "\n",
    "# Input data files are available in the read-only \"../input/\" directory\n",
    "# For example, running this (by clicking run or pressing Shift+Enter) will list all files under the input directory\n",
    "\n",
    "import os\n",
    "for dirname, _, filenames in os.walk('/kaggle/input'):\n",
    "    for filename in filenames:\n",
    "        print(os.path.join(dirname, filename))\n",
    "\n",
    "# You can write up to 20GB to the current directory (/kaggle/working/) that gets preserved as output when you create a version using \"Save & Run All\" \n",
    "# You can also write temporary files to /kaggle/temp/, but they won't be saved outside of the current session"
   ]
  },
  {
   "cell_type": "markdown",
   "id": "38da37ed",
   "metadata": {
    "papermill": {
     "duration": 0.003493,
     "end_time": "2025-08-14T03:43:43.259103",
     "exception": false,
     "start_time": "2025-08-14T03:43:43.255610",
     "status": "completed"
    },
    "tags": []
   },
   "source": [
    "环境配置"
   ]
  },
  {
   "cell_type": "code",
   "execution_count": 2,
   "id": "6c2f92d3",
   "metadata": {
    "execution": {
     "iopub.execute_input": "2025-08-14T03:43:43.268663Z",
     "iopub.status.busy": "2025-08-14T03:43:43.268171Z",
     "iopub.status.idle": "2025-08-14T03:43:50.531043Z",
     "shell.execute_reply": "2025-08-14T03:43:50.529330Z"
    },
    "papermill": {
     "duration": 7.270138,
     "end_time": "2025-08-14T03:43:50.533075",
     "exception": false,
     "start_time": "2025-08-14T03:43:43.262937",
     "status": "completed"
    },
    "tags": []
   },
   "outputs": [
    {
     "name": "stdout",
     "output_type": "stream",
     "text": [
      "Requirement already satisfied: pandas in /usr/local/lib/python3.11/dist-packages (2.2.3)\r\n",
      "Requirement already satisfied: matplotlib in /usr/local/lib/python3.11/dist-packages (3.7.2)\r\n",
      "Requirement already satisfied: numpy in /usr/local/lib/python3.11/dist-packages (1.26.4)\r\n",
      "Requirement already satisfied: scikit-learn in /usr/local/lib/python3.11/dist-packages (1.2.2)\r\n",
      "Requirement already satisfied: seaborn in /usr/local/lib/python3.11/dist-packages (0.12.2)\r\n",
      "Requirement already satisfied: python-dateutil>=2.8.2 in /usr/local/lib/python3.11/dist-packages (from pandas) (2.9.0.post0)\r\n",
      "Requirement already satisfied: pytz>=2020.1 in /usr/local/lib/python3.11/dist-packages (from pandas) (2025.2)\r\n",
      "Requirement already satisfied: tzdata>=2022.7 in /usr/local/lib/python3.11/dist-packages (from pandas) (2025.2)\r\n",
      "Requirement already satisfied: contourpy>=1.0.1 in /usr/local/lib/python3.11/dist-packages (from matplotlib) (1.3.2)\r\n",
      "Requirement already satisfied: cycler>=0.10 in /usr/local/lib/python3.11/dist-packages (from matplotlib) (0.12.1)\r\n",
      "Requirement already satisfied: fonttools>=4.22.0 in /usr/local/lib/python3.11/dist-packages (from matplotlib) (4.58.4)\r\n",
      "Requirement already satisfied: kiwisolver>=1.0.1 in /usr/local/lib/python3.11/dist-packages (from matplotlib) (1.4.8)\r\n",
      "Requirement already satisfied: packaging>=20.0 in /usr/local/lib/python3.11/dist-packages (from matplotlib) (25.0)\r\n",
      "Requirement already satisfied: pillow>=6.2.0 in /usr/local/lib/python3.11/dist-packages (from matplotlib) (11.2.1)\r\n",
      "Requirement already satisfied: pyparsing<3.1,>=2.3.1 in /usr/local/lib/python3.11/dist-packages (from matplotlib) (3.0.9)\r\n",
      "Requirement already satisfied: mkl_fft in /usr/local/lib/python3.11/dist-packages (from numpy) (1.3.8)\r\n",
      "Requirement already satisfied: mkl_random in /usr/local/lib/python3.11/dist-packages (from numpy) (1.2.4)\r\n",
      "Requirement already satisfied: mkl_umath in /usr/local/lib/python3.11/dist-packages (from numpy) (0.1.1)\r\n",
      "Requirement already satisfied: mkl in /usr/local/lib/python3.11/dist-packages (from numpy) (2025.2.0)\r\n",
      "Requirement already satisfied: tbb4py in /usr/local/lib/python3.11/dist-packages (from numpy) (2022.2.0)\r\n",
      "Requirement already satisfied: mkl-service in /usr/local/lib/python3.11/dist-packages (from numpy) (2.4.1)\r\n",
      "Requirement already satisfied: scipy>=1.3.2 in /usr/local/lib/python3.11/dist-packages (from scikit-learn) (1.15.3)\r\n",
      "Requirement already satisfied: joblib>=1.1.1 in /usr/local/lib/python3.11/dist-packages (from scikit-learn) (1.5.1)\r\n",
      "Requirement already satisfied: threadpoolctl>=2.0.0 in /usr/local/lib/python3.11/dist-packages (from scikit-learn) (3.6.0)\r\n",
      "Requirement already satisfied: six>=1.5 in /usr/local/lib/python3.11/dist-packages (from python-dateutil>=2.8.2->pandas) (1.17.0)\r\n",
      "Requirement already satisfied: intel-openmp<2026,>=2024 in /usr/local/lib/python3.11/dist-packages (from mkl->numpy) (2024.2.0)\r\n",
      "Requirement already satisfied: tbb==2022.* in /usr/local/lib/python3.11/dist-packages (from mkl->numpy) (2022.2.0)\r\n",
      "Requirement already satisfied: tcmlib==1.* in /usr/local/lib/python3.11/dist-packages (from tbb==2022.*->mkl->numpy) (1.4.0)\r\n",
      "Requirement already satisfied: intel-cmplr-lib-rt in /usr/local/lib/python3.11/dist-packages (from mkl_umath->numpy) (2024.2.0)\r\n",
      "Requirement already satisfied: intel-cmplr-lib-ur==2024.2.0 in /usr/local/lib/python3.11/dist-packages (from intel-openmp<2026,>=2024->mkl->numpy) (2024.2.0)\r\n",
      "Note: you may need to restart the kernel to use updated packages.\n"
     ]
    }
   ],
   "source": [
    "pip install pandas matplotlib numpy scikit-learn seaborn"
   ]
  },
  {
   "cell_type": "markdown",
   "id": "0fa6176e",
   "metadata": {
    "papermill": {
     "duration": 0.003686,
     "end_time": "2025-08-14T03:43:50.541062",
     "exception": false,
     "start_time": "2025-08-14T03:43:50.537376",
     "status": "completed"
    },
    "tags": []
   },
   "source": [
    "步骤 1：数据加载与基础检查"
   ]
  },
  {
   "cell_type": "code",
   "execution_count": 3,
   "id": "fd5804ff",
   "metadata": {
    "execution": {
     "iopub.execute_input": "2025-08-14T03:43:50.550835Z",
     "iopub.status.busy": "2025-08-14T03:43:50.550394Z",
     "iopub.status.idle": "2025-08-14T03:44:00.269346Z",
     "shell.execute_reply": "2025-08-14T03:44:00.267831Z"
    },
    "papermill": {
     "duration": 9.726744,
     "end_time": "2025-08-14T03:44:00.271802",
     "exception": false,
     "start_time": "2025-08-14T03:43:50.545058",
     "status": "completed"
    },
    "tags": []
   },
   "outputs": [
    {
     "name": "stdout",
     "output_type": "stream",
     "text": [
      "违约样本比例：\n",
      "TARGET\n",
      "0    0.919271\n",
      "1    0.080729\n",
      "Name: proportion, dtype: float64\n"
     ]
    }
   ],
   "source": [
    "import pandas as pd\n",
    "import numpy as np\n",
    "import matplotlib.pyplot as plt\n",
    "from sklearn.model_selection import train_test_split\n",
    "from sklearn.metrics import roc_auc_score\n",
    "from sklearn.preprocessing import LabelEncoder\n",
    "import xgboost as xgb\n",
    "\n",
    "# 加载数据（替换为你的数据集路径）\n",
    "train = pd.read_csv('/kaggle/input/home-credit-default-risk/application_train.csv')\n",
    "\n",
    "# 关键检查：目标变量分布（确保1是少数类）\n",
    "print(\"违约样本比例：\")\n",
    "print(train['TARGET'].value_counts(normalize=True))  # 正常应显示1占比5%-10%\n",
    "\n",
    "# 分离特征和目标变量\n",
    "X = train.drop('TARGET', axis=1)\n",
    "y = train['TARGET']"
   ]
  },
  {
   "cell_type": "markdown",
   "id": "ad7a06db",
   "metadata": {
    "papermill": {
     "duration": 0.003759,
     "end_time": "2025-08-14T03:44:00.279913",
     "exception": false,
     "start_time": "2025-08-14T03:44:00.276154",
     "status": "completed"
    },
    "tags": []
   },
   "source": [
    "步骤 2：数据预处理（修复关键问题）"
   ]
  },
  {
   "cell_type": "code",
   "execution_count": 4,
   "id": "56d86aff",
   "metadata": {
    "execution": {
     "iopub.execute_input": "2025-08-14T03:44:00.289577Z",
     "iopub.status.busy": "2025-08-14T03:44:00.289205Z",
     "iopub.status.idle": "2025-08-14T03:44:05.773821Z",
     "shell.execute_reply": "2025-08-14T03:44:05.772478Z"
    },
    "papermill": {
     "duration": 5.492011,
     "end_time": "2025-08-14T03:44:05.775886",
     "exception": false,
     "start_time": "2025-08-14T03:44:00.283875",
     "status": "completed"
    },
    "tags": []
   },
   "outputs": [],
   "source": [
    "# 1. 缺失值处理（按类型分别处理）\n",
    "# 数值型特征：用中位数填充（抗异常值）\n",
    "num_cols = X.select_dtypes(include=['int64', 'float64']).columns\n",
    "X[num_cols] = X[num_cols].fillna(X[num_cols].median())\n",
    "\n",
    "# 类别型特征：用众数填充\n",
    "cat_cols = X.select_dtypes(include=['object']).columns\n",
    "X[cat_cols] = X[cat_cols].fillna(X[cat_cols].mode().iloc[0])\n",
    "\n",
    "# 2. 异常值处理（截断极端值）\n",
    "def cap_outliers(df, col):\n",
    "    \"\"\"用1%和99%分位数截断异常值\"\"\"\n",
    "    lower = df[col].quantile(0.01)\n",
    "    upper = df[col].quantile(0.99)\n",
    "    df[col] = df[col].clip(lower, upper)\n",
    "    return df\n",
    "\n",
    "for col in num_cols:\n",
    "    X = cap_outliers(X, col)\n",
    "\n",
    "# 3. 类别特征编码（LabelEncoder）\n",
    "for col in cat_cols:\n",
    "    le = LabelEncoder()\n",
    "    X[col] = le.fit_transform(X[col].astype(str))"
   ]
  },
  {
   "cell_type": "markdown",
   "id": "85c69f1e",
   "metadata": {
    "papermill": {
     "duration": 0.004193,
     "end_time": "2025-08-14T03:44:05.784689",
     "exception": false,
     "start_time": "2025-08-14T03:44:05.780496",
     "status": "completed"
    },
    "tags": []
   },
   "source": [
    "步骤 3：添加风控核心衍生特征（关键提升点）"
   ]
  },
  {
   "cell_type": "code",
   "execution_count": 5,
   "id": "0516790f",
   "metadata": {
    "execution": {
     "iopub.execute_input": "2025-08-14T03:44:05.794608Z",
     "iopub.status.busy": "2025-08-14T03:44:05.794235Z",
     "iopub.status.idle": "2025-08-14T03:44:05.833451Z",
     "shell.execute_reply": "2025-08-14T03:44:05.832193Z"
    },
    "papermill": {
     "duration": 0.046155,
     "end_time": "2025-08-14T03:44:05.835325",
     "exception": false,
     "start_time": "2025-08-14T03:44:05.789170",
     "status": "completed"
    },
    "tags": []
   },
   "outputs": [
    {
     "name": "stderr",
     "output_type": "stream",
     "text": [
      "/tmp/ipykernel_13/2331108248.py:3: PerformanceWarning: DataFrame is highly fragmented.  This is usually the result of calling `frame.insert` many times, which has poor performance.  Consider joining all columns at once using pd.concat(axis=1) instead. To get a de-fragmented frame, use `newframe = frame.copy()`\n",
      "  df['CREDIT_INCOME_RATIO'] = df['AMT_CREDIT'] / (df['AMT_INCOME_TOTAL'] + 1e-5)\n",
      "/tmp/ipykernel_13/2331108248.py:6: PerformanceWarning: DataFrame is highly fragmented.  This is usually the result of calling `frame.insert` many times, which has poor performance.  Consider joining all columns at once using pd.concat(axis=1) instead. To get a de-fragmented frame, use `newframe = frame.copy()`\n",
      "  df['ANNUITY_INCOME_RATIO'] = df['AMT_ANNUITY'] / (df['AMT_INCOME_TOTAL'] + 1e-5)\n",
      "/tmp/ipykernel_13/2331108248.py:10: PerformanceWarning: DataFrame is highly fragmented.  This is usually the result of calling `frame.insert` many times, which has poor performance.  Consider joining all columns at once using pd.concat(axis=1) instead. To get a de-fragmented frame, use `newframe = frame.copy()`\n",
      "  df['EMPLOYED_AGE_RATIO'] = (-df['DAYS_EMPLOYED']) / (-df['DAYS_BIRTH'])  # 转为正数比例\n",
      "/tmp/ipykernel_13/2331108248.py:13: PerformanceWarning: DataFrame is highly fragmented.  This is usually the result of calling `frame.insert` many times, which has poor performance.  Consider joining all columns at once using pd.concat(axis=1) instead. To get a de-fragmented frame, use `newframe = frame.copy()`\n",
      "  df['CHILDREN_RATIO'] = df['CNT_CHILDREN'] / (df['CNT_FAM_MEMBERS'] + 1)\n",
      "/tmp/ipykernel_13/2331108248.py:16: PerformanceWarning: DataFrame is highly fragmented.  This is usually the result of calling `frame.insert` many times, which has poor performance.  Consider joining all columns at once using pd.concat(axis=1) instead. To get a de-fragmented frame, use `newframe = frame.copy()`\n",
      "  df['VALID_CAR_AGE'] = ((df['OWN_CAR_AGE'] > 0) & (df['OWN_CAR_AGE'] < 30)).astype(int)\n"
     ]
    }
   ],
   "source": [
    "def add_risk_features(df):\n",
    "    # 1. 还款能力：信贷金额/收入（越高风险越大）\n",
    "    df['CREDIT_INCOME_RATIO'] = df['AMT_CREDIT'] / (df['AMT_INCOME_TOTAL'] + 1e-5)\n",
    "    \n",
    "    # 2. 负债压力：年金/收入（月供占收入比例）\n",
    "    df['ANNUITY_INCOME_RATIO'] = df['AMT_ANNUITY'] / (df['AMT_INCOME_TOTAL'] + 1e-5)\n",
    "    \n",
    "    # 3. 信用历史长度：工作天数/年龄（负数转为正数）\n",
    "    df['DAYS_EMPLOYED'] = df['DAYS_EMPLOYED'].replace(365243, np.nan)  # 处理异常值\n",
    "    df['EMPLOYED_AGE_RATIO'] = (-df['DAYS_EMPLOYED']) / (-df['DAYS_BIRTH'])  # 转为正数比例\n",
    "    \n",
    "    # 4. 家庭负担：孩子数量/家庭人数\n",
    "    df['CHILDREN_RATIO'] = df['CNT_CHILDREN'] / (df['CNT_FAM_MEMBERS'] + 1)\n",
    "    \n",
    "    # 5. 资产稳定性：有车且车龄合理（车龄>0且<30年）\n",
    "    df['VALID_CAR_AGE'] = ((df['OWN_CAR_AGE'] > 0) & (df['OWN_CAR_AGE'] < 30)).astype(int)\n",
    "    \n",
    "    return df\n",
    "\n",
    "# 应用特征衍生\n",
    "X = add_risk_features(X)"
   ]
  },
  {
   "cell_type": "markdown",
   "id": "e45bba58",
   "metadata": {
    "papermill": {
     "duration": 0.003918,
     "end_time": "2025-08-14T03:44:05.843678",
     "exception": false,
     "start_time": "2025-08-14T03:44:05.839760",
     "status": "completed"
    },
    "tags": []
   },
   "source": [
    "步骤 4：特征筛选（保留高预测力特征）"
   ]
  },
  {
   "cell_type": "code",
   "execution_count": 6,
   "id": "0c298ab5",
   "metadata": {
    "execution": {
     "iopub.execute_input": "2025-08-14T03:44:05.872516Z",
     "iopub.status.busy": "2025-08-14T03:44:05.872142Z",
     "iopub.status.idle": "2025-08-14T03:44:10.718934Z",
     "shell.execute_reply": "2025-08-14T03:44:10.717732Z"
    },
    "papermill": {
     "duration": 4.873312,
     "end_time": "2025-08-14T03:44:10.721033",
     "exception": false,
     "start_time": "2025-08-14T03:44:05.847721",
     "status": "completed"
    },
    "tags": []
   },
   "outputs": [
    {
     "name": "stderr",
     "output_type": "stream",
     "text": [
      "/tmp/ipykernel_13/1398594667.py:4: FutureWarning: The default of observed=False is deprecated and will be changed to True in a future version of pandas. Pass observed=False to retain current behavior or observed=True to adopt the future default and silence this warning.\n",
      "  grouped = df.groupby(binned)[target].agg(['count', 'sum'])\n",
      "/tmp/ipykernel_13/1398594667.py:4: FutureWarning: The default of observed=False is deprecated and will be changed to True in a future version of pandas. Pass observed=False to retain current behavior or observed=True to adopt the future default and silence this warning.\n",
      "  grouped = df.groupby(binned)[target].agg(['count', 'sum'])\n",
      "/tmp/ipykernel_13/1398594667.py:4: FutureWarning: The default of observed=False is deprecated and will be changed to True in a future version of pandas. Pass observed=False to retain current behavior or observed=True to adopt the future default and silence this warning.\n",
      "  grouped = df.groupby(binned)[target].agg(['count', 'sum'])\n",
      "/tmp/ipykernel_13/1398594667.py:4: FutureWarning: The default of observed=False is deprecated and will be changed to True in a future version of pandas. Pass observed=False to retain current behavior or observed=True to adopt the future default and silence this warning.\n",
      "  grouped = df.groupby(binned)[target].agg(['count', 'sum'])\n",
      "/tmp/ipykernel_13/1398594667.py:4: FutureWarning: The default of observed=False is deprecated and will be changed to True in a future version of pandas. Pass observed=False to retain current behavior or observed=True to adopt the future default and silence this warning.\n",
      "  grouped = df.groupby(binned)[target].agg(['count', 'sum'])\n",
      "/tmp/ipykernel_13/1398594667.py:4: FutureWarning: The default of observed=False is deprecated and will be changed to True in a future version of pandas. Pass observed=False to retain current behavior or observed=True to adopt the future default and silence this warning.\n",
      "  grouped = df.groupby(binned)[target].agg(['count', 'sum'])\n",
      "/tmp/ipykernel_13/1398594667.py:4: FutureWarning: The default of observed=False is deprecated and will be changed to True in a future version of pandas. Pass observed=False to retain current behavior or observed=True to adopt the future default and silence this warning.\n",
      "  grouped = df.groupby(binned)[target].agg(['count', 'sum'])\n",
      "/tmp/ipykernel_13/1398594667.py:4: FutureWarning: The default of observed=False is deprecated and will be changed to True in a future version of pandas. Pass observed=False to retain current behavior or observed=True to adopt the future default and silence this warning.\n",
      "  grouped = df.groupby(binned)[target].agg(['count', 'sum'])\n",
      "/tmp/ipykernel_13/1398594667.py:4: FutureWarning: The default of observed=False is deprecated and will be changed to True in a future version of pandas. Pass observed=False to retain current behavior or observed=True to adopt the future default and silence this warning.\n",
      "  grouped = df.groupby(binned)[target].agg(['count', 'sum'])\n",
      "/tmp/ipykernel_13/1398594667.py:4: FutureWarning: The default of observed=False is deprecated and will be changed to True in a future version of pandas. Pass observed=False to retain current behavior or observed=True to adopt the future default and silence this warning.\n",
      "  grouped = df.groupby(binned)[target].agg(['count', 'sum'])\n",
      "/tmp/ipykernel_13/1398594667.py:4: FutureWarning: The default of observed=False is deprecated and will be changed to True in a future version of pandas. Pass observed=False to retain current behavior or observed=True to adopt the future default and silence this warning.\n",
      "  grouped = df.groupby(binned)[target].agg(['count', 'sum'])\n",
      "/tmp/ipykernel_13/1398594667.py:4: FutureWarning: The default of observed=False is deprecated and will be changed to True in a future version of pandas. Pass observed=False to retain current behavior or observed=True to adopt the future default and silence this warning.\n",
      "  grouped = df.groupby(binned)[target].agg(['count', 'sum'])\n",
      "/tmp/ipykernel_13/1398594667.py:4: FutureWarning: The default of observed=False is deprecated and will be changed to True in a future version of pandas. Pass observed=False to retain current behavior or observed=True to adopt the future default and silence this warning.\n",
      "  grouped = df.groupby(binned)[target].agg(['count', 'sum'])\n",
      "/tmp/ipykernel_13/1398594667.py:4: FutureWarning: The default of observed=False is deprecated and will be changed to True in a future version of pandas. Pass observed=False to retain current behavior or observed=True to adopt the future default and silence this warning.\n",
      "  grouped = df.groupby(binned)[target].agg(['count', 'sum'])\n",
      "/tmp/ipykernel_13/1398594667.py:4: FutureWarning: The default of observed=False is deprecated and will be changed to True in a future version of pandas. Pass observed=False to retain current behavior or observed=True to adopt the future default and silence this warning.\n",
      "  grouped = df.groupby(binned)[target].agg(['count', 'sum'])\n",
      "/tmp/ipykernel_13/1398594667.py:4: FutureWarning: The default of observed=False is deprecated and will be changed to True in a future version of pandas. Pass observed=False to retain current behavior or observed=True to adopt the future default and silence this warning.\n",
      "  grouped = df.groupby(binned)[target].agg(['count', 'sum'])\n",
      "/tmp/ipykernel_13/1398594667.py:4: FutureWarning: The default of observed=False is deprecated and will be changed to True in a future version of pandas. Pass observed=False to retain current behavior or observed=True to adopt the future default and silence this warning.\n",
      "  grouped = df.groupby(binned)[target].agg(['count', 'sum'])\n",
      "/tmp/ipykernel_13/1398594667.py:4: FutureWarning: The default of observed=False is deprecated and will be changed to True in a future version of pandas. Pass observed=False to retain current behavior or observed=True to adopt the future default and silence this warning.\n",
      "  grouped = df.groupby(binned)[target].agg(['count', 'sum'])\n",
      "/tmp/ipykernel_13/1398594667.py:4: FutureWarning: The default of observed=False is deprecated and will be changed to True in a future version of pandas. Pass observed=False to retain current behavior or observed=True to adopt the future default and silence this warning.\n",
      "  grouped = df.groupby(binned)[target].agg(['count', 'sum'])\n",
      "/tmp/ipykernel_13/1398594667.py:4: FutureWarning: The default of observed=False is deprecated and will be changed to True in a future version of pandas. Pass observed=False to retain current behavior or observed=True to adopt the future default and silence this warning.\n",
      "  grouped = df.groupby(binned)[target].agg(['count', 'sum'])\n",
      "/tmp/ipykernel_13/1398594667.py:4: FutureWarning: The default of observed=False is deprecated and will be changed to True in a future version of pandas. Pass observed=False to retain current behavior or observed=True to adopt the future default and silence this warning.\n",
      "  grouped = df.groupby(binned)[target].agg(['count', 'sum'])\n",
      "/tmp/ipykernel_13/1398594667.py:4: FutureWarning: The default of observed=False is deprecated and will be changed to True in a future version of pandas. Pass observed=False to retain current behavior or observed=True to adopt the future default and silence this warning.\n",
      "  grouped = df.groupby(binned)[target].agg(['count', 'sum'])\n",
      "/tmp/ipykernel_13/1398594667.py:4: FutureWarning: The default of observed=False is deprecated and will be changed to True in a future version of pandas. Pass observed=False to retain current behavior or observed=True to adopt the future default and silence this warning.\n",
      "  grouped = df.groupby(binned)[target].agg(['count', 'sum'])\n",
      "/tmp/ipykernel_13/1398594667.py:4: FutureWarning: The default of observed=False is deprecated and will be changed to True in a future version of pandas. Pass observed=False to retain current behavior or observed=True to adopt the future default and silence this warning.\n",
      "  grouped = df.groupby(binned)[target].agg(['count', 'sum'])\n",
      "/tmp/ipykernel_13/1398594667.py:4: FutureWarning: The default of observed=False is deprecated and will be changed to True in a future version of pandas. Pass observed=False to retain current behavior or observed=True to adopt the future default and silence this warning.\n",
      "  grouped = df.groupby(binned)[target].agg(['count', 'sum'])\n",
      "/tmp/ipykernel_13/1398594667.py:4: FutureWarning: The default of observed=False is deprecated and will be changed to True in a future version of pandas. Pass observed=False to retain current behavior or observed=True to adopt the future default and silence this warning.\n",
      "  grouped = df.groupby(binned)[target].agg(['count', 'sum'])\n",
      "/tmp/ipykernel_13/1398594667.py:4: FutureWarning: The default of observed=False is deprecated and will be changed to True in a future version of pandas. Pass observed=False to retain current behavior or observed=True to adopt the future default and silence this warning.\n",
      "  grouped = df.groupby(binned)[target].agg(['count', 'sum'])\n",
      "/tmp/ipykernel_13/1398594667.py:4: FutureWarning: The default of observed=False is deprecated and will be changed to True in a future version of pandas. Pass observed=False to retain current behavior or observed=True to adopt the future default and silence this warning.\n",
      "  grouped = df.groupby(binned)[target].agg(['count', 'sum'])\n",
      "/tmp/ipykernel_13/1398594667.py:4: FutureWarning: The default of observed=False is deprecated and will be changed to True in a future version of pandas. Pass observed=False to retain current behavior or observed=True to adopt the future default and silence this warning.\n",
      "  grouped = df.groupby(binned)[target].agg(['count', 'sum'])\n",
      "/tmp/ipykernel_13/1398594667.py:4: FutureWarning: The default of observed=False is deprecated and will be changed to True in a future version of pandas. Pass observed=False to retain current behavior or observed=True to adopt the future default and silence this warning.\n",
      "  grouped = df.groupby(binned)[target].agg(['count', 'sum'])\n",
      "/tmp/ipykernel_13/1398594667.py:4: FutureWarning: The default of observed=False is deprecated and will be changed to True in a future version of pandas. Pass observed=False to retain current behavior or observed=True to adopt the future default and silence this warning.\n",
      "  grouped = df.groupby(binned)[target].agg(['count', 'sum'])\n",
      "/tmp/ipykernel_13/1398594667.py:4: FutureWarning: The default of observed=False is deprecated and will be changed to True in a future version of pandas. Pass observed=False to retain current behavior or observed=True to adopt the future default and silence this warning.\n",
      "  grouped = df.groupby(binned)[target].agg(['count', 'sum'])\n",
      "/tmp/ipykernel_13/1398594667.py:4: FutureWarning: The default of observed=False is deprecated and will be changed to True in a future version of pandas. Pass observed=False to retain current behavior or observed=True to adopt the future default and silence this warning.\n",
      "  grouped = df.groupby(binned)[target].agg(['count', 'sum'])\n",
      "/tmp/ipykernel_13/1398594667.py:4: FutureWarning: The default of observed=False is deprecated and will be changed to True in a future version of pandas. Pass observed=False to retain current behavior or observed=True to adopt the future default and silence this warning.\n",
      "  grouped = df.groupby(binned)[target].agg(['count', 'sum'])\n",
      "/tmp/ipykernel_13/1398594667.py:4: FutureWarning: The default of observed=False is deprecated and will be changed to True in a future version of pandas. Pass observed=False to retain current behavior or observed=True to adopt the future default and silence this warning.\n",
      "  grouped = df.groupby(binned)[target].agg(['count', 'sum'])\n",
      "/tmp/ipykernel_13/1398594667.py:4: FutureWarning: The default of observed=False is deprecated and will be changed to True in a future version of pandas. Pass observed=False to retain current behavior or observed=True to adopt the future default and silence this warning.\n",
      "  grouped = df.groupby(binned)[target].agg(['count', 'sum'])\n",
      "/tmp/ipykernel_13/1398594667.py:4: FutureWarning: The default of observed=False is deprecated and will be changed to True in a future version of pandas. Pass observed=False to retain current behavior or observed=True to adopt the future default and silence this warning.\n",
      "  grouped = df.groupby(binned)[target].agg(['count', 'sum'])\n",
      "/tmp/ipykernel_13/1398594667.py:4: FutureWarning: The default of observed=False is deprecated and will be changed to True in a future version of pandas. Pass observed=False to retain current behavior or observed=True to adopt the future default and silence this warning.\n",
      "  grouped = df.groupby(binned)[target].agg(['count', 'sum'])\n",
      "/tmp/ipykernel_13/1398594667.py:4: FutureWarning: The default of observed=False is deprecated and will be changed to True in a future version of pandas. Pass observed=False to retain current behavior or observed=True to adopt the future default and silence this warning.\n",
      "  grouped = df.groupby(binned)[target].agg(['count', 'sum'])\n",
      "/tmp/ipykernel_13/1398594667.py:4: FutureWarning: The default of observed=False is deprecated and will be changed to True in a future version of pandas. Pass observed=False to retain current behavior or observed=True to adopt the future default and silence this warning.\n",
      "  grouped = df.groupby(binned)[target].agg(['count', 'sum'])\n",
      "/tmp/ipykernel_13/1398594667.py:4: FutureWarning: The default of observed=False is deprecated and will be changed to True in a future version of pandas. Pass observed=False to retain current behavior or observed=True to adopt the future default and silence this warning.\n",
      "  grouped = df.groupby(binned)[target].agg(['count', 'sum'])\n",
      "/tmp/ipykernel_13/1398594667.py:4: FutureWarning: The default of observed=False is deprecated and will be changed to True in a future version of pandas. Pass observed=False to retain current behavior or observed=True to adopt the future default and silence this warning.\n",
      "  grouped = df.groupby(binned)[target].agg(['count', 'sum'])\n",
      "/tmp/ipykernel_13/1398594667.py:4: FutureWarning: The default of observed=False is deprecated and will be changed to True in a future version of pandas. Pass observed=False to retain current behavior or observed=True to adopt the future default and silence this warning.\n",
      "  grouped = df.groupby(binned)[target].agg(['count', 'sum'])\n",
      "/tmp/ipykernel_13/1398594667.py:4: FutureWarning: The default of observed=False is deprecated and will be changed to True in a future version of pandas. Pass observed=False to retain current behavior or observed=True to adopt the future default and silence this warning.\n",
      "  grouped = df.groupby(binned)[target].agg(['count', 'sum'])\n",
      "/tmp/ipykernel_13/1398594667.py:4: FutureWarning: The default of observed=False is deprecated and will be changed to True in a future version of pandas. Pass observed=False to retain current behavior or observed=True to adopt the future default and silence this warning.\n",
      "  grouped = df.groupby(binned)[target].agg(['count', 'sum'])\n",
      "/tmp/ipykernel_13/1398594667.py:4: FutureWarning: The default of observed=False is deprecated and will be changed to True in a future version of pandas. Pass observed=False to retain current behavior or observed=True to adopt the future default and silence this warning.\n",
      "  grouped = df.groupby(binned)[target].agg(['count', 'sum'])\n",
      "/tmp/ipykernel_13/1398594667.py:4: FutureWarning: The default of observed=False is deprecated and will be changed to True in a future version of pandas. Pass observed=False to retain current behavior or observed=True to adopt the future default and silence this warning.\n",
      "  grouped = df.groupby(binned)[target].agg(['count', 'sum'])\n",
      "/tmp/ipykernel_13/1398594667.py:4: FutureWarning: The default of observed=False is deprecated and will be changed to True in a future version of pandas. Pass observed=False to retain current behavior or observed=True to adopt the future default and silence this warning.\n",
      "  grouped = df.groupby(binned)[target].agg(['count', 'sum'])\n",
      "/tmp/ipykernel_13/1398594667.py:4: FutureWarning: The default of observed=False is deprecated and will be changed to True in a future version of pandas. Pass observed=False to retain current behavior or observed=True to adopt the future default and silence this warning.\n",
      "  grouped = df.groupby(binned)[target].agg(['count', 'sum'])\n",
      "/tmp/ipykernel_13/1398594667.py:4: FutureWarning: The default of observed=False is deprecated and will be changed to True in a future version of pandas. Pass observed=False to retain current behavior or observed=True to adopt the future default and silence this warning.\n",
      "  grouped = df.groupby(binned)[target].agg(['count', 'sum'])\n",
      "/tmp/ipykernel_13/1398594667.py:4: FutureWarning: The default of observed=False is deprecated and will be changed to True in a future version of pandas. Pass observed=False to retain current behavior or observed=True to adopt the future default and silence this warning.\n",
      "  grouped = df.groupby(binned)[target].agg(['count', 'sum'])\n",
      "/tmp/ipykernel_13/1398594667.py:4: FutureWarning: The default of observed=False is deprecated and will be changed to True in a future version of pandas. Pass observed=False to retain current behavior or observed=True to adopt the future default and silence this warning.\n",
      "  grouped = df.groupby(binned)[target].agg(['count', 'sum'])\n",
      "/tmp/ipykernel_13/1398594667.py:4: FutureWarning: The default of observed=False is deprecated and will be changed to True in a future version of pandas. Pass observed=False to retain current behavior or observed=True to adopt the future default and silence this warning.\n",
      "  grouped = df.groupby(binned)[target].agg(['count', 'sum'])\n",
      "/tmp/ipykernel_13/1398594667.py:4: FutureWarning: The default of observed=False is deprecated and will be changed to True in a future version of pandas. Pass observed=False to retain current behavior or observed=True to adopt the future default and silence this warning.\n",
      "  grouped = df.groupby(binned)[target].agg(['count', 'sum'])\n",
      "/tmp/ipykernel_13/1398594667.py:4: FutureWarning: The default of observed=False is deprecated and will be changed to True in a future version of pandas. Pass observed=False to retain current behavior or observed=True to adopt the future default and silence this warning.\n",
      "  grouped = df.groupby(binned)[target].agg(['count', 'sum'])\n",
      "/tmp/ipykernel_13/1398594667.py:4: FutureWarning: The default of observed=False is deprecated and will be changed to True in a future version of pandas. Pass observed=False to retain current behavior or observed=True to adopt the future default and silence this warning.\n",
      "  grouped = df.groupby(binned)[target].agg(['count', 'sum'])\n",
      "/tmp/ipykernel_13/1398594667.py:4: FutureWarning: The default of observed=False is deprecated and will be changed to True in a future version of pandas. Pass observed=False to retain current behavior or observed=True to adopt the future default and silence this warning.\n",
      "  grouped = df.groupby(binned)[target].agg(['count', 'sum'])\n",
      "/tmp/ipykernel_13/1398594667.py:4: FutureWarning: The default of observed=False is deprecated and will be changed to True in a future version of pandas. Pass observed=False to retain current behavior or observed=True to adopt the future default and silence this warning.\n",
      "  grouped = df.groupby(binned)[target].agg(['count', 'sum'])\n",
      "/tmp/ipykernel_13/1398594667.py:4: FutureWarning: The default of observed=False is deprecated and will be changed to True in a future version of pandas. Pass observed=False to retain current behavior or observed=True to adopt the future default and silence this warning.\n",
      "  grouped = df.groupby(binned)[target].agg(['count', 'sum'])\n",
      "/tmp/ipykernel_13/1398594667.py:4: FutureWarning: The default of observed=False is deprecated and will be changed to True in a future version of pandas. Pass observed=False to retain current behavior or observed=True to adopt the future default and silence this warning.\n",
      "  grouped = df.groupby(binned)[target].agg(['count', 'sum'])\n",
      "/tmp/ipykernel_13/1398594667.py:4: FutureWarning: The default of observed=False is deprecated and will be changed to True in a future version of pandas. Pass observed=False to retain current behavior or observed=True to adopt the future default and silence this warning.\n",
      "  grouped = df.groupby(binned)[target].agg(['count', 'sum'])\n",
      "/tmp/ipykernel_13/1398594667.py:4: FutureWarning: The default of observed=False is deprecated and will be changed to True in a future version of pandas. Pass observed=False to retain current behavior or observed=True to adopt the future default and silence this warning.\n",
      "  grouped = df.groupby(binned)[target].agg(['count', 'sum'])\n",
      "/tmp/ipykernel_13/1398594667.py:4: FutureWarning: The default of observed=False is deprecated and will be changed to True in a future version of pandas. Pass observed=False to retain current behavior or observed=True to adopt the future default and silence this warning.\n",
      "  grouped = df.groupby(binned)[target].agg(['count', 'sum'])\n",
      "/tmp/ipykernel_13/1398594667.py:4: FutureWarning: The default of observed=False is deprecated and will be changed to True in a future version of pandas. Pass observed=False to retain current behavior or observed=True to adopt the future default and silence this warning.\n",
      "  grouped = df.groupby(binned)[target].agg(['count', 'sum'])\n",
      "/tmp/ipykernel_13/1398594667.py:4: FutureWarning: The default of observed=False is deprecated and will be changed to True in a future version of pandas. Pass observed=False to retain current behavior or observed=True to adopt the future default and silence this warning.\n",
      "  grouped = df.groupby(binned)[target].agg(['count', 'sum'])\n",
      "/tmp/ipykernel_13/1398594667.py:4: FutureWarning: The default of observed=False is deprecated and will be changed to True in a future version of pandas. Pass observed=False to retain current behavior or observed=True to adopt the future default and silence this warning.\n",
      "  grouped = df.groupby(binned)[target].agg(['count', 'sum'])\n",
      "/tmp/ipykernel_13/1398594667.py:4: FutureWarning: The default of observed=False is deprecated and will be changed to True in a future version of pandas. Pass observed=False to retain current behavior or observed=True to adopt the future default and silence this warning.\n",
      "  grouped = df.groupby(binned)[target].agg(['count', 'sum'])\n",
      "/tmp/ipykernel_13/1398594667.py:4: FutureWarning: The default of observed=False is deprecated and will be changed to True in a future version of pandas. Pass observed=False to retain current behavior or observed=True to adopt the future default and silence this warning.\n",
      "  grouped = df.groupby(binned)[target].agg(['count', 'sum'])\n",
      "/tmp/ipykernel_13/1398594667.py:4: FutureWarning: The default of observed=False is deprecated and will be changed to True in a future version of pandas. Pass observed=False to retain current behavior or observed=True to adopt the future default and silence this warning.\n",
      "  grouped = df.groupby(binned)[target].agg(['count', 'sum'])\n",
      "/tmp/ipykernel_13/1398594667.py:4: FutureWarning: The default of observed=False is deprecated and will be changed to True in a future version of pandas. Pass observed=False to retain current behavior or observed=True to adopt the future default and silence this warning.\n",
      "  grouped = df.groupby(binned)[target].agg(['count', 'sum'])\n",
      "/tmp/ipykernel_13/1398594667.py:4: FutureWarning: The default of observed=False is deprecated and will be changed to True in a future version of pandas. Pass observed=False to retain current behavior or observed=True to adopt the future default and silence this warning.\n",
      "  grouped = df.groupby(binned)[target].agg(['count', 'sum'])\n",
      "/tmp/ipykernel_13/1398594667.py:4: FutureWarning: The default of observed=False is deprecated and will be changed to True in a future version of pandas. Pass observed=False to retain current behavior or observed=True to adopt the future default and silence this warning.\n",
      "  grouped = df.groupby(binned)[target].agg(['count', 'sum'])\n",
      "/tmp/ipykernel_13/1398594667.py:4: FutureWarning: The default of observed=False is deprecated and will be changed to True in a future version of pandas. Pass observed=False to retain current behavior or observed=True to adopt the future default and silence this warning.\n",
      "  grouped = df.groupby(binned)[target].agg(['count', 'sum'])\n",
      "/tmp/ipykernel_13/1398594667.py:4: FutureWarning: The default of observed=False is deprecated and will be changed to True in a future version of pandas. Pass observed=False to retain current behavior or observed=True to adopt the future default and silence this warning.\n",
      "  grouped = df.groupby(binned)[target].agg(['count', 'sum'])\n",
      "/tmp/ipykernel_13/1398594667.py:4: FutureWarning: The default of observed=False is deprecated and will be changed to True in a future version of pandas. Pass observed=False to retain current behavior or observed=True to adopt the future default and silence this warning.\n",
      "  grouped = df.groupby(binned)[target].agg(['count', 'sum'])\n",
      "/tmp/ipykernel_13/1398594667.py:4: FutureWarning: The default of observed=False is deprecated and will be changed to True in a future version of pandas. Pass observed=False to retain current behavior or observed=True to adopt the future default and silence this warning.\n",
      "  grouped = df.groupby(binned)[target].agg(['count', 'sum'])\n",
      "/tmp/ipykernel_13/1398594667.py:4: FutureWarning: The default of observed=False is deprecated and will be changed to True in a future version of pandas. Pass observed=False to retain current behavior or observed=True to adopt the future default and silence this warning.\n",
      "  grouped = df.groupby(binned)[target].agg(['count', 'sum'])\n",
      "/tmp/ipykernel_13/1398594667.py:4: FutureWarning: The default of observed=False is deprecated and will be changed to True in a future version of pandas. Pass observed=False to retain current behavior or observed=True to adopt the future default and silence this warning.\n",
      "  grouped = df.groupby(binned)[target].agg(['count', 'sum'])\n",
      "/tmp/ipykernel_13/1398594667.py:4: FutureWarning: The default of observed=False is deprecated and will be changed to True in a future version of pandas. Pass observed=False to retain current behavior or observed=True to adopt the future default and silence this warning.\n",
      "  grouped = df.groupby(binned)[target].agg(['count', 'sum'])\n",
      "/tmp/ipykernel_13/1398594667.py:4: FutureWarning: The default of observed=False is deprecated and will be changed to True in a future version of pandas. Pass observed=False to retain current behavior or observed=True to adopt the future default and silence this warning.\n",
      "  grouped = df.groupby(binned)[target].agg(['count', 'sum'])\n",
      "/tmp/ipykernel_13/1398594667.py:4: FutureWarning: The default of observed=False is deprecated and will be changed to True in a future version of pandas. Pass observed=False to retain current behavior or observed=True to adopt the future default and silence this warning.\n",
      "  grouped = df.groupby(binned)[target].agg(['count', 'sum'])\n",
      "/tmp/ipykernel_13/1398594667.py:4: FutureWarning: The default of observed=False is deprecated and will be changed to True in a future version of pandas. Pass observed=False to retain current behavior or observed=True to adopt the future default and silence this warning.\n",
      "  grouped = df.groupby(binned)[target].agg(['count', 'sum'])\n",
      "/tmp/ipykernel_13/1398594667.py:4: FutureWarning: The default of observed=False is deprecated and will be changed to True in a future version of pandas. Pass observed=False to retain current behavior or observed=True to adopt the future default and silence this warning.\n",
      "  grouped = df.groupby(binned)[target].agg(['count', 'sum'])\n",
      "/tmp/ipykernel_13/1398594667.py:4: FutureWarning: The default of observed=False is deprecated and will be changed to True in a future version of pandas. Pass observed=False to retain current behavior or observed=True to adopt the future default and silence this warning.\n",
      "  grouped = df.groupby(binned)[target].agg(['count', 'sum'])\n",
      "/tmp/ipykernel_13/1398594667.py:4: FutureWarning: The default of observed=False is deprecated and will be changed to True in a future version of pandas. Pass observed=False to retain current behavior or observed=True to adopt the future default and silence this warning.\n",
      "  grouped = df.groupby(binned)[target].agg(['count', 'sum'])\n",
      "/tmp/ipykernel_13/1398594667.py:4: FutureWarning: The default of observed=False is deprecated and will be changed to True in a future version of pandas. Pass observed=False to retain current behavior or observed=True to adopt the future default and silence this warning.\n",
      "  grouped = df.groupby(binned)[target].agg(['count', 'sum'])\n",
      "/tmp/ipykernel_13/1398594667.py:4: FutureWarning: The default of observed=False is deprecated and will be changed to True in a future version of pandas. Pass observed=False to retain current behavior or observed=True to adopt the future default and silence this warning.\n",
      "  grouped = df.groupby(binned)[target].agg(['count', 'sum'])\n",
      "/tmp/ipykernel_13/1398594667.py:4: FutureWarning: The default of observed=False is deprecated and will be changed to True in a future version of pandas. Pass observed=False to retain current behavior or observed=True to adopt the future default and silence this warning.\n",
      "  grouped = df.groupby(binned)[target].agg(['count', 'sum'])\n",
      "/tmp/ipykernel_13/1398594667.py:4: FutureWarning: The default of observed=False is deprecated and will be changed to True in a future version of pandas. Pass observed=False to retain current behavior or observed=True to adopt the future default and silence this warning.\n",
      "  grouped = df.groupby(binned)[target].agg(['count', 'sum'])\n",
      "/tmp/ipykernel_13/1398594667.py:4: FutureWarning: The default of observed=False is deprecated and will be changed to True in a future version of pandas. Pass observed=False to retain current behavior or observed=True to adopt the future default and silence this warning.\n",
      "  grouped = df.groupby(binned)[target].agg(['count', 'sum'])\n",
      "/tmp/ipykernel_13/1398594667.py:4: FutureWarning: The default of observed=False is deprecated and will be changed to True in a future version of pandas. Pass observed=False to retain current behavior or observed=True to adopt the future default and silence this warning.\n",
      "  grouped = df.groupby(binned)[target].agg(['count', 'sum'])\n",
      "/tmp/ipykernel_13/1398594667.py:4: FutureWarning: The default of observed=False is deprecated and will be changed to True in a future version of pandas. Pass observed=False to retain current behavior or observed=True to adopt the future default and silence this warning.\n",
      "  grouped = df.groupby(binned)[target].agg(['count', 'sum'])\n",
      "/tmp/ipykernel_13/1398594667.py:4: FutureWarning: The default of observed=False is deprecated and will be changed to True in a future version of pandas. Pass observed=False to retain current behavior or observed=True to adopt the future default and silence this warning.\n",
      "  grouped = df.groupby(binned)[target].agg(['count', 'sum'])\n",
      "/tmp/ipykernel_13/1398594667.py:4: FutureWarning: The default of observed=False is deprecated and will be changed to True in a future version of pandas. Pass observed=False to retain current behavior or observed=True to adopt the future default and silence this warning.\n",
      "  grouped = df.groupby(binned)[target].agg(['count', 'sum'])\n",
      "/tmp/ipykernel_13/1398594667.py:4: FutureWarning: The default of observed=False is deprecated and will be changed to True in a future version of pandas. Pass observed=False to retain current behavior or observed=True to adopt the future default and silence this warning.\n",
      "  grouped = df.groupby(binned)[target].agg(['count', 'sum'])\n",
      "/tmp/ipykernel_13/1398594667.py:4: FutureWarning: The default of observed=False is deprecated and will be changed to True in a future version of pandas. Pass observed=False to retain current behavior or observed=True to adopt the future default and silence this warning.\n",
      "  grouped = df.groupby(binned)[target].agg(['count', 'sum'])\n",
      "/tmp/ipykernel_13/1398594667.py:4: FutureWarning: The default of observed=False is deprecated and will be changed to True in a future version of pandas. Pass observed=False to retain current behavior or observed=True to adopt the future default and silence this warning.\n",
      "  grouped = df.groupby(binned)[target].agg(['count', 'sum'])\n",
      "/tmp/ipykernel_13/1398594667.py:4: FutureWarning: The default of observed=False is deprecated and will be changed to True in a future version of pandas. Pass observed=False to retain current behavior or observed=True to adopt the future default and silence this warning.\n",
      "  grouped = df.groupby(binned)[target].agg(['count', 'sum'])\n",
      "/tmp/ipykernel_13/1398594667.py:4: FutureWarning: The default of observed=False is deprecated and will be changed to True in a future version of pandas. Pass observed=False to retain current behavior or observed=True to adopt the future default and silence this warning.\n",
      "  grouped = df.groupby(binned)[target].agg(['count', 'sum'])\n",
      "/tmp/ipykernel_13/1398594667.py:4: FutureWarning: The default of observed=False is deprecated and will be changed to True in a future version of pandas. Pass observed=False to retain current behavior or observed=True to adopt the future default and silence this warning.\n",
      "  grouped = df.groupby(binned)[target].agg(['count', 'sum'])\n",
      "/tmp/ipykernel_13/1398594667.py:4: FutureWarning: The default of observed=False is deprecated and will be changed to True in a future version of pandas. Pass observed=False to retain current behavior or observed=True to adopt the future default and silence this warning.\n",
      "  grouped = df.groupby(binned)[target].agg(['count', 'sum'])\n",
      "/tmp/ipykernel_13/1398594667.py:4: FutureWarning: The default of observed=False is deprecated and will be changed to True in a future version of pandas. Pass observed=False to retain current behavior or observed=True to adopt the future default and silence this warning.\n",
      "  grouped = df.groupby(binned)[target].agg(['count', 'sum'])\n",
      "/tmp/ipykernel_13/1398594667.py:4: FutureWarning: The default of observed=False is deprecated and will be changed to True in a future version of pandas. Pass observed=False to retain current behavior or observed=True to adopt the future default and silence this warning.\n",
      "  grouped = df.groupby(binned)[target].agg(['count', 'sum'])\n",
      "/tmp/ipykernel_13/1398594667.py:4: FutureWarning: The default of observed=False is deprecated and will be changed to True in a future version of pandas. Pass observed=False to retain current behavior or observed=True to adopt the future default and silence this warning.\n",
      "  grouped = df.groupby(binned)[target].agg(['count', 'sum'])\n",
      "/tmp/ipykernel_13/1398594667.py:4: FutureWarning: The default of observed=False is deprecated and will be changed to True in a future version of pandas. Pass observed=False to retain current behavior or observed=True to adopt the future default and silence this warning.\n",
      "  grouped = df.groupby(binned)[target].agg(['count', 'sum'])\n",
      "/tmp/ipykernel_13/1398594667.py:4: FutureWarning: The default of observed=False is deprecated and will be changed to True in a future version of pandas. Pass observed=False to retain current behavior or observed=True to adopt the future default and silence this warning.\n",
      "  grouped = df.groupby(binned)[target].agg(['count', 'sum'])\n",
      "/tmp/ipykernel_13/1398594667.py:4: FutureWarning: The default of observed=False is deprecated and will be changed to True in a future version of pandas. Pass observed=False to retain current behavior or observed=True to adopt the future default and silence this warning.\n",
      "  grouped = df.groupby(binned)[target].agg(['count', 'sum'])\n",
      "/tmp/ipykernel_13/1398594667.py:4: FutureWarning: The default of observed=False is deprecated and will be changed to True in a future version of pandas. Pass observed=False to retain current behavior or observed=True to adopt the future default and silence this warning.\n",
      "  grouped = df.groupby(binned)[target].agg(['count', 'sum'])\n",
      "/tmp/ipykernel_13/1398594667.py:4: FutureWarning: The default of observed=False is deprecated and will be changed to True in a future version of pandas. Pass observed=False to retain current behavior or observed=True to adopt the future default and silence this warning.\n",
      "  grouped = df.groupby(binned)[target].agg(['count', 'sum'])\n",
      "/tmp/ipykernel_13/1398594667.py:4: FutureWarning: The default of observed=False is deprecated and will be changed to True in a future version of pandas. Pass observed=False to retain current behavior or observed=True to adopt the future default and silence this warning.\n",
      "  grouped = df.groupby(binned)[target].agg(['count', 'sum'])\n",
      "/tmp/ipykernel_13/1398594667.py:4: FutureWarning: The default of observed=False is deprecated and will be changed to True in a future version of pandas. Pass observed=False to retain current behavior or observed=True to adopt the future default and silence this warning.\n",
      "  grouped = df.groupby(binned)[target].agg(['count', 'sum'])\n",
      "/tmp/ipykernel_13/1398594667.py:4: FutureWarning: The default of observed=False is deprecated and will be changed to True in a future version of pandas. Pass observed=False to retain current behavior or observed=True to adopt the future default and silence this warning.\n",
      "  grouped = df.groupby(binned)[target].agg(['count', 'sum'])\n",
      "/tmp/ipykernel_13/1398594667.py:4: FutureWarning: The default of observed=False is deprecated and will be changed to True in a future version of pandas. Pass observed=False to retain current behavior or observed=True to adopt the future default and silence this warning.\n",
      "  grouped = df.groupby(binned)[target].agg(['count', 'sum'])\n",
      "/tmp/ipykernel_13/1398594667.py:4: FutureWarning: The default of observed=False is deprecated and will be changed to True in a future version of pandas. Pass observed=False to retain current behavior or observed=True to adopt the future default and silence this warning.\n",
      "  grouped = df.groupby(binned)[target].agg(['count', 'sum'])\n",
      "/tmp/ipykernel_13/1398594667.py:4: FutureWarning: The default of observed=False is deprecated and will be changed to True in a future version of pandas. Pass observed=False to retain current behavior or observed=True to adopt the future default and silence this warning.\n",
      "  grouped = df.groupby(binned)[target].agg(['count', 'sum'])\n",
      "/tmp/ipykernel_13/1398594667.py:4: FutureWarning: The default of observed=False is deprecated and will be changed to True in a future version of pandas. Pass observed=False to retain current behavior or observed=True to adopt the future default and silence this warning.\n",
      "  grouped = df.groupby(binned)[target].agg(['count', 'sum'])\n",
      "/tmp/ipykernel_13/1398594667.py:4: FutureWarning: The default of observed=False is deprecated and will be changed to True in a future version of pandas. Pass observed=False to retain current behavior or observed=True to adopt the future default and silence this warning.\n",
      "  grouped = df.groupby(binned)[target].agg(['count', 'sum'])\n",
      "/tmp/ipykernel_13/1398594667.py:4: FutureWarning: The default of observed=False is deprecated and will be changed to True in a future version of pandas. Pass observed=False to retain current behavior or observed=True to adopt the future default and silence this warning.\n",
      "  grouped = df.groupby(binned)[target].agg(['count', 'sum'])\n",
      "/tmp/ipykernel_13/1398594667.py:4: FutureWarning: The default of observed=False is deprecated and will be changed to True in a future version of pandas. Pass observed=False to retain current behavior or observed=True to adopt the future default and silence this warning.\n",
      "  grouped = df.groupby(binned)[target].agg(['count', 'sum'])\n",
      "/tmp/ipykernel_13/1398594667.py:4: FutureWarning: The default of observed=False is deprecated and will be changed to True in a future version of pandas. Pass observed=False to retain current behavior or observed=True to adopt the future default and silence this warning.\n",
      "  grouped = df.groupby(binned)[target].agg(['count', 'sum'])\n",
      "/tmp/ipykernel_13/1398594667.py:4: FutureWarning: The default of observed=False is deprecated and will be changed to True in a future version of pandas. Pass observed=False to retain current behavior or observed=True to adopt the future default and silence this warning.\n",
      "  grouped = df.groupby(binned)[target].agg(['count', 'sum'])\n",
      "/tmp/ipykernel_13/1398594667.py:4: FutureWarning: The default of observed=False is deprecated and will be changed to True in a future version of pandas. Pass observed=False to retain current behavior or observed=True to adopt the future default and silence this warning.\n",
      "  grouped = df.groupby(binned)[target].agg(['count', 'sum'])\n",
      "/tmp/ipykernel_13/1398594667.py:4: FutureWarning: The default of observed=False is deprecated and will be changed to True in a future version of pandas. Pass observed=False to retain current behavior or observed=True to adopt the future default and silence this warning.\n",
      "  grouped = df.groupby(binned)[target].agg(['count', 'sum'])\n",
      "/tmp/ipykernel_13/1398594667.py:4: FutureWarning: The default of observed=False is deprecated and will be changed to True in a future version of pandas. Pass observed=False to retain current behavior or observed=True to adopt the future default and silence this warning.\n",
      "  grouped = df.groupby(binned)[target].agg(['count', 'sum'])\n",
      "/tmp/ipykernel_13/1398594667.py:4: FutureWarning: The default of observed=False is deprecated and will be changed to True in a future version of pandas. Pass observed=False to retain current behavior or observed=True to adopt the future default and silence this warning.\n",
      "  grouped = df.groupby(binned)[target].agg(['count', 'sum'])\n",
      "/tmp/ipykernel_13/1398594667.py:4: FutureWarning: The default of observed=False is deprecated and will be changed to True in a future version of pandas. Pass observed=False to retain current behavior or observed=True to adopt the future default and silence this warning.\n",
      "  grouped = df.groupby(binned)[target].agg(['count', 'sum'])\n"
     ]
    },
    {
     "name": "stdout",
     "output_type": "stream",
     "text": [
      "筛选后有效特征数：40\n",
      "保留的衍生特征：['CREDIT_INCOME_RATIO', 'ANNUITY_INCOME_RATIO', 'EMPLOYED_AGE_RATIO', 'CHILDREN_RATIO', 'VALID_CAR_AGE']\n"
     ]
    }
   ],
   "source": [
    "def calculate_iv(df, feature, target):\n",
    "    \"\"\"计算特征的信息价值（IV）\"\"\"\n",
    "    binned = pd.qcut(df[feature], 10, duplicates='drop')  # 分10箱\n",
    "    grouped = df.groupby(binned)[target].agg(['count', 'sum'])\n",
    "    grouped['bad'] = grouped['sum']\n",
    "    grouped['good'] = grouped['count'] - grouped['sum']\n",
    "    grouped['bad_rate'] = grouped['bad'] / grouped['bad'].sum()\n",
    "    grouped['good_rate'] = grouped['good'] / grouped['good'].sum()\n",
    "    grouped['iv'] = (grouped['bad_rate'] - grouped['good_rate']) * np.log((grouped['bad_rate'] + 1e-10) / (grouped['good_rate'] + 1e-10))\n",
    "    return grouped['iv'].sum()\n",
    "# 重新定义特征筛选函数（保留衍生特征）\n",
    "def filter_features_with_derived(df, target, derived_features, min_iv=0.02):\n",
    "    # 计算所有特征的IV值\n",
    "    iv_values = {}\n",
    "    for col in df.columns:\n",
    "        iv = calculate_iv(pd.concat([df[col], target], axis=1), col, 'TARGET')\n",
    "        iv_values[col] = iv\n",
    "    \n",
    "    # 筛选IV>0.02的特征 + 强制保留衍生特征\n",
    "    valid_features = [col for col, iv in iv_values.items() if iv > min_iv]\n",
    "    valid_features = list(set(valid_features + derived_features))  # 合并并去重\n",
    "    return valid_features, iv_values\n",
    "\n",
    "# 明确指定衍生特征列表（与add_risk_features中定义的一致）\n",
    "derived_features = [\n",
    "    'CREDIT_INCOME_RATIO', \n",
    "    'ANNUITY_INCOME_RATIO', \n",
    "    'EMPLOYED_AGE_RATIO',\n",
    "    'CHILDREN_RATIO',\n",
    "    'VALID_CAR_AGE'\n",
    "]\n",
    "\n",
    "# 筛选特征（强制保留衍生特征）\n",
    "valid_features, iv_values = filter_features_with_derived(X, y, derived_features)\n",
    "X = X[valid_features]\n",
    "print(f\"筛选后有效特征数：{len(valid_features)}\")\n",
    "print(f\"保留的衍生特征：{[f for f in derived_features if f in valid_features]}\")  # 确认CREDIT_INCOME_RATIO在列"
   ]
  },
  {
   "cell_type": "markdown",
   "id": "4210e316",
   "metadata": {
    "papermill": {
     "duration": 0.007679,
     "end_time": "2025-08-14T03:44:10.743719",
     "exception": false,
     "start_time": "2025-08-14T03:44:10.736040",
     "status": "completed"
    },
    "tags": []
   },
   "source": []
  },
  {
   "cell_type": "markdown",
   "id": "2b61ee30",
   "metadata": {
    "papermill": {
     "duration": 0.007749,
     "end_time": "2025-08-14T03:44:10.758677",
     "exception": false,
     "start_time": "2025-08-14T03:44:10.750928",
     "status": "completed"
    },
    "tags": []
   },
   "source": [
    "步骤 5：处理样本不平衡 + 训练模型（XGBoost）"
   ]
  },
  {
   "cell_type": "code",
   "execution_count": 7,
   "id": "96eb555c",
   "metadata": {
    "execution": {
     "iopub.execute_input": "2025-08-14T03:44:10.775427Z",
     "iopub.status.busy": "2025-08-14T03:44:10.774938Z",
     "iopub.status.idle": "2025-08-14T03:44:16.519643Z",
     "shell.execute_reply": "2025-08-14T03:44:16.518595Z"
    },
    "papermill": {
     "duration": 5.754909,
     "end_time": "2025-08-14T03:44:16.521354",
     "exception": false,
     "start_time": "2025-08-14T03:44:10.766445",
     "status": "completed"
    },
    "tags": []
   },
   "outputs": [
    {
     "name": "stdout",
     "output_type": "stream",
     "text": [
      "优化后测试集AUC：0.7551\n"
     ]
    }
   ],
   "source": [
    "# 划分训练集和测试集（分层抽样，保持违约比例）\n",
    "X_train, X_test, y_train, y_test = train_test_split(\n",
    "    X, y, test_size=0.2, random_state=42, stratify=y\n",
    ")\n",
    "\n",
    "# 计算正负样本比例（用于平衡权重）\n",
    "scale_pos_weight = (y_train == 0).sum() / (y_train == 1).sum()  # 正常样本数/违约样本数\n",
    "\n",
    "# 训练XGBoost（参数针对风控场景优化）\n",
    "xgb_model = xgb.XGBClassifier(\n",
    "    objective='binary:logistic',  # 二分类\n",
    "    scale_pos_weight=scale_pos_weight,  # 平衡正负样本\n",
    "    learning_rate=0.1,\n",
    "    max_depth=4,  # 控制复杂度，避免过拟合\n",
    "    n_estimators=200,  # 树的数量\n",
    "    subsample=0.8,  # 样本采样，增加随机性\n",
    "    colsample_bytree=0.8,  # 特征采样\n",
    "    random_state=42\n",
    ")\n",
    "\n",
    "xgb_model.fit(X_train, y_train)\n",
    "\n",
    "# 评估AUC\n",
    "y_pred_proba = xgb_model.predict_proba(X_test)[:, 1]\n",
    "auc = roc_auc_score(y_test, y_pred_proba)\n",
    "print(f\"优化后测试集AUC：{auc:.4f}\")  # 正常会达到0.75-0.85"
   ]
  },
  {
   "cell_type": "code",
   "execution_count": 8,
   "id": "8f05376d",
   "metadata": {
    "execution": {
     "iopub.execute_input": "2025-08-14T03:44:16.536819Z",
     "iopub.status.busy": "2025-08-14T03:44:16.536425Z",
     "iopub.status.idle": "2025-08-14T03:44:18.382378Z",
     "shell.execute_reply": "2025-08-14T03:44:18.380843Z"
    },
    "papermill": {
     "duration": 1.856241,
     "end_time": "2025-08-14T03:44:18.384641",
     "exception": false,
     "start_time": "2025-08-14T03:44:16.528400",
     "status": "completed"
    },
    "tags": []
   },
   "outputs": [
    {
     "name": "stderr",
     "output_type": "stream",
     "text": [
      "/tmp/ipykernel_13/2474372637.py:38: FutureWarning: The default of observed=False is deprecated and will be changed to True in a future version of pandas. Pass observed=False to retain current behavior or observed=True to adopt the future default and silence this warning.\n",
      "  bin_default_rate = X_test_with_target.groupby('CREDIT_INCOME_BIN')['TARGET'].mean()\n"
     ]
    },
    {
     "name": "stdout",
     "output_type": "stream",
     "text": [
      "default_rate_by_credit_income.png  __notebook__.ipynb\r\n",
      "feature_importance.png\t\t   optimized_roc_curve.png\r\n"
     ]
    }
   ],
   "source": [
    "import matplotlib.pyplot as plt\n",
    "import seaborn as sns\n",
    "from sklearn.metrics import roc_curve, confusion_matrix\n",
    "\n",
    "# 1. 新ROC曲线（优化后模型）\n",
    "plt.figure(figsize=(8, 6))\n",
    "fpr, tpr, _ = roc_curve(y_test, y_pred_proba)\n",
    "plt.plot(fpr, tpr, label=f'XGBoost (AUC = {auc:.4f})', color='darkorange')\n",
    "plt.plot([0, 1], [0, 1], 'k--', label='Random')\n",
    "plt.xlabel('False Positive Rate')\n",
    "plt.ylabel('True Positive Rate')\n",
    "plt.title('ROC Curve (Optimized Model)')\n",
    "plt.legend()\n",
    "plt.savefig('/kaggle/working/optimized_roc_curve.png')\n",
    "plt.close()\n",
    "\n",
    "# 2. 特征重要性图（展示风控关键特征）\n",
    "feature_importance = pd.DataFrame({\n",
    "    'Feature': X_train.columns,\n",
    "    'Importance': xgb_model.feature_importances_\n",
    "}).sort_values('Importance', ascending=False)\n",
    "\n",
    "plt.figure(figsize=(10, 6))\n",
    "sns.barplot(x='Importance', y='Feature', data=feature_importance.head(10))\n",
    "plt.title('Top 10 Important Features (Risk Factors)')\n",
    "plt.tight_layout()  # 避免标签截断\n",
    "plt.savefig('/kaggle/working/feature_importance.png')\n",
    "plt.close()\n",
    "\n",
    "# 3. 违约率与关键特征的关系（以信贷收入比为例）\n",
    "plt.figure(figsize=(10, 6))\n",
    "# 分箱展示违约率\n",
    "X_test_with_target = X_test.copy()\n",
    "X_test_with_target['TARGET'] = y_test\n",
    "X_test_with_target['CREDIT_INCOME_BIN'] = pd.qcut(\n",
    "    X_test_with_target['CREDIT_INCOME_RATIO'], 5, duplicates='drop'\n",
    ")\n",
    "bin_default_rate = X_test_with_target.groupby('CREDIT_INCOME_BIN')['TARGET'].mean()\n",
    "bin_default_rate.plot(kind='bar')\n",
    "plt.title('Default Rate by Credit/Income Ratio Bins')\n",
    "plt.ylabel('Default Rate')\n",
    "plt.tight_layout()\n",
    "plt.savefig('/kaggle/working/default_rate_by_credit_income.png')\n",
    "plt.close()\n",
    "\n",
    "# 确认图片已生成\n",
    "!ls /kaggle/working/  # 应显示3张新图片"
   ]
  }
 ],
 "metadata": {
  "kaggle": {
   "accelerator": "none",
   "dataSources": [
    {
     "databundleVersionId": 860599,
     "sourceId": 9120,
     "sourceType": "competition"
    }
   ],
   "dockerImageVersionId": 31089,
   "isGpuEnabled": false,
   "isInternetEnabled": true,
   "language": "python",
   "sourceType": "notebook"
  },
  "kernelspec": {
   "display_name": "Python 3",
   "language": "python",
   "name": "python3"
  },
  "language_info": {
   "codemirror_mode": {
    "name": "ipython",
    "version": 3
   },
   "file_extension": ".py",
   "mimetype": "text/x-python",
   "name": "python",
   "nbconvert_exporter": "python",
   "pygments_lexer": "ipython3",
   "version": "3.11.13"
  },
  "papermill": {
   "default_parameters": {},
   "duration": 45.530365,
   "end_time": "2025-08-14T03:44:19.317948",
   "environment_variables": {},
   "exception": null,
   "input_path": "__notebook__.ipynb",
   "output_path": "__notebook__.ipynb",
   "parameters": {},
   "start_time": "2025-08-14T03:43:33.787583",
   "version": "2.6.0"
  }
 },
 "nbformat": 4,
 "nbformat_minor": 5
}
