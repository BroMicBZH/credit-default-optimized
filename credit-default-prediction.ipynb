{
 "cells": [
  {
   "cell_type": "code",
   "execution_count": 1,
   "id": "aeff8a63",
   "metadata": {
    "_cell_guid": "b1076dfc-b9ad-4769-8c92-a6c4dae69d19",
    "_uuid": "8f2839f25d086af736a60e9eeb907d3b93b6e0e5",
    "execution": {
     "iopub.execute_input": "2025-08-11T10:02:45.487351Z",
     "iopub.status.busy": "2025-08-11T10:02:45.486882Z",
     "iopub.status.idle": "2025-08-11T10:02:47.704347Z",
     "shell.execute_reply": "2025-08-11T10:02:47.702800Z"
    },
    "papermill": {
     "duration": 2.224165,
     "end_time": "2025-08-11T10:02:47.706181",
     "exception": false,
     "start_time": "2025-08-11T10:02:45.482016",
     "status": "completed"
    },
    "tags": []
   },
   "outputs": [
    {
     "name": "stdout",
     "output_type": "stream",
     "text": [
      "/kaggle/input/home-credit-default-risk/sample_submission.csv\n",
      "/kaggle/input/home-credit-default-risk/bureau_balance.csv\n",
      "/kaggle/input/home-credit-default-risk/POS_CASH_balance.csv\n",
      "/kaggle/input/home-credit-default-risk/application_train.csv\n",
      "/kaggle/input/home-credit-default-risk/HomeCredit_columns_description.csv\n",
      "/kaggle/input/home-credit-default-risk/application_test.csv\n",
      "/kaggle/input/home-credit-default-risk/previous_application.csv\n",
      "/kaggle/input/home-credit-default-risk/credit_card_balance.csv\n",
      "/kaggle/input/home-credit-default-risk/installments_payments.csv\n",
      "/kaggle/input/home-credit-default-risk/bureau.csv\n"
     ]
    }
   ],
   "source": [
    "# This Python 3 environment comes with many helpful analytics libraries installed\n",
    "# It is defined by the kaggle/python Docker image: https://github.com/kaggle/docker-python\n",
    "# For example, here's several helpful packages to load\n",
    "\n",
    "import numpy as np # linear algebra\n",
    "import pandas as pd # data processing, CSV file I/O (e.g. pd.read_csv)\n",
    "\n",
    "# Input data files are available in the read-only \"../input/\" directory\n",
    "# For example, running this (by clicking run or pressing Shift+Enter) will list all files under the input directory\n",
    "\n",
    "import os\n",
    "for dirname, _, filenames in os.walk('/kaggle/input'):\n",
    "    for filename in filenames:\n",
    "        print(os.path.join(dirname, filename))\n",
    "\n",
    "# You can write up to 20GB to the current directory (/kaggle/working/) that gets preserved as output when you create a version using \"Save & Run All\" \n",
    "# You can also write temporary files to /kaggle/temp/, but they won't be saved outside of the current session"
   ]
  },
  {
   "cell_type": "markdown",
   "id": "fd98be69",
   "metadata": {
    "papermill": {
     "duration": 0.002947,
     "end_time": "2025-08-11T10:02:47.712783",
     "exception": false,
     "start_time": "2025-08-11T10:02:47.709836",
     "status": "completed"
    },
    "tags": []
   },
   "source": [
    "环境配置"
   ]
  },
  {
   "cell_type": "code",
   "execution_count": 2,
   "id": "48695d32",
   "metadata": {
    "execution": {
     "iopub.execute_input": "2025-08-11T10:02:47.719764Z",
     "iopub.status.busy": "2025-08-11T10:02:47.719301Z",
     "iopub.status.idle": "2025-08-11T10:02:53.439556Z",
     "shell.execute_reply": "2025-08-11T10:02:53.438269Z"
    },
    "papermill": {
     "duration": 5.725546,
     "end_time": "2025-08-11T10:02:53.441163",
     "exception": false,
     "start_time": "2025-08-11T10:02:47.715617",
     "status": "completed"
    },
    "tags": []
   },
   "outputs": [
    {
     "name": "stdout",
     "output_type": "stream",
     "text": [
      "Requirement already satisfied: pandas in /usr/local/lib/python3.11/dist-packages (2.2.3)\r\n",
      "Requirement already satisfied: matplotlib in /usr/local/lib/python3.11/dist-packages (3.7.2)\r\n",
      "Requirement already satisfied: numpy in /usr/local/lib/python3.11/dist-packages (1.26.4)\r\n",
      "Requirement already satisfied: scikit-learn in /usr/local/lib/python3.11/dist-packages (1.2.2)\r\n",
      "Requirement already satisfied: seaborn in /usr/local/lib/python3.11/dist-packages (0.12.2)\r\n",
      "Requirement already satisfied: python-dateutil>=2.8.2 in /usr/local/lib/python3.11/dist-packages (from pandas) (2.9.0.post0)\r\n",
      "Requirement already satisfied: pytz>=2020.1 in /usr/local/lib/python3.11/dist-packages (from pandas) (2025.2)\r\n",
      "Requirement already satisfied: tzdata>=2022.7 in /usr/local/lib/python3.11/dist-packages (from pandas) (2025.2)\r\n",
      "Requirement already satisfied: contourpy>=1.0.1 in /usr/local/lib/python3.11/dist-packages (from matplotlib) (1.3.2)\r\n",
      "Requirement already satisfied: cycler>=0.10 in /usr/local/lib/python3.11/dist-packages (from matplotlib) (0.12.1)\r\n",
      "Requirement already satisfied: fonttools>=4.22.0 in /usr/local/lib/python3.11/dist-packages (from matplotlib) (4.58.4)\r\n",
      "Requirement already satisfied: kiwisolver>=1.0.1 in /usr/local/lib/python3.11/dist-packages (from matplotlib) (1.4.8)\r\n",
      "Requirement already satisfied: packaging>=20.0 in /usr/local/lib/python3.11/dist-packages (from matplotlib) (25.0)\r\n",
      "Requirement already satisfied: pillow>=6.2.0 in /usr/local/lib/python3.11/dist-packages (from matplotlib) (11.2.1)\r\n",
      "Requirement already satisfied: pyparsing<3.1,>=2.3.1 in /usr/local/lib/python3.11/dist-packages (from matplotlib) (3.0.9)\r\n",
      "Requirement already satisfied: mkl_fft in /usr/local/lib/python3.11/dist-packages (from numpy) (1.3.8)\r\n",
      "Requirement already satisfied: mkl_random in /usr/local/lib/python3.11/dist-packages (from numpy) (1.2.4)\r\n",
      "Requirement already satisfied: mkl_umath in /usr/local/lib/python3.11/dist-packages (from numpy) (0.1.1)\r\n",
      "Requirement already satisfied: mkl in /usr/local/lib/python3.11/dist-packages (from numpy) (2025.2.0)\r\n",
      "Requirement already satisfied: tbb4py in /usr/local/lib/python3.11/dist-packages (from numpy) (2022.2.0)\r\n",
      "Requirement already satisfied: mkl-service in /usr/local/lib/python3.11/dist-packages (from numpy) (2.4.1)\r\n",
      "Requirement already satisfied: scipy>=1.3.2 in /usr/local/lib/python3.11/dist-packages (from scikit-learn) (1.15.3)\r\n",
      "Requirement already satisfied: joblib>=1.1.1 in /usr/local/lib/python3.11/dist-packages (from scikit-learn) (1.5.1)\r\n",
      "Requirement already satisfied: threadpoolctl>=2.0.0 in /usr/local/lib/python3.11/dist-packages (from scikit-learn) (3.6.0)\r\n",
      "Requirement already satisfied: six>=1.5 in /usr/local/lib/python3.11/dist-packages (from python-dateutil>=2.8.2->pandas) (1.17.0)\r\n",
      "Requirement already satisfied: intel-openmp<2026,>=2024 in /usr/local/lib/python3.11/dist-packages (from mkl->numpy) (2024.2.0)\r\n",
      "Requirement already satisfied: tbb==2022.* in /usr/local/lib/python3.11/dist-packages (from mkl->numpy) (2022.2.0)\r\n",
      "Requirement already satisfied: tcmlib==1.* in /usr/local/lib/python3.11/dist-packages (from tbb==2022.*->mkl->numpy) (1.4.0)\r\n",
      "Requirement already satisfied: intel-cmplr-lib-rt in /usr/local/lib/python3.11/dist-packages (from mkl_umath->numpy) (2024.2.0)\r\n",
      "Requirement already satisfied: intel-cmplr-lib-ur==2024.2.0 in /usr/local/lib/python3.11/dist-packages (from intel-openmp<2026,>=2024->mkl->numpy) (2024.2.0)\r\n",
      "Note: you may need to restart the kernel to use updated packages.\n"
     ]
    }
   ],
   "source": [
    "pip install pandas matplotlib numpy scikit-learn seaborn"
   ]
  },
  {
   "cell_type": "markdown",
   "id": "1a0727ae",
   "metadata": {
    "papermill": {
     "duration": 0.003154,
     "end_time": "2025-08-11T10:02:53.447567",
     "exception": false,
     "start_time": "2025-08-11T10:02:53.444413",
     "status": "completed"
    },
    "tags": []
   },
   "source": [
    "数据加载与初步清洗（Pandas 核心操作）"
   ]
  },
  {
   "cell_type": "code",
   "execution_count": 3,
   "id": "39180274",
   "metadata": {
    "execution": {
     "iopub.execute_input": "2025-08-11T10:02:53.455521Z",
     "iopub.status.busy": "2025-08-11T10:02:53.455152Z",
     "iopub.status.idle": "2025-08-11T10:03:06.195913Z",
     "shell.execute_reply": "2025-08-11T10:03:06.194694Z"
    },
    "papermill": {
     "duration": 12.747392,
     "end_time": "2025-08-11T10:03:06.198027",
     "exception": false,
     "start_time": "2025-08-11T10:02:53.450635",
     "status": "completed"
    },
    "tags": []
   },
   "outputs": [
    {
     "name": "stdout",
     "output_type": "stream",
     "text": [
      "数据集形状：(307511, 122)\n",
      "TARGET\n",
      "0    0.919271\n",
      "1    0.080729\n",
      "Name: proportion, dtype: float64\n"
     ]
    }
   ],
   "source": [
    "import pandas as pd\n",
    "import numpy as np\n",
    "import matplotlib.pyplot as plt\n",
    "import seaborn as sns\n",
    "\n",
    "# 加载数据（以训练集为例）\n",
    "train = pd.read_csv('/kaggle/input/home-credit-default-risk/application_train.csv')  # 主表：借款人基本信息\n",
    "print(f\"数据集形状：{train.shape}\")  # 查看行数和列数\n",
    "print(train['TARGET'].value_counts(normalize=True))  # 查看违约比例（0=未违约，1=违约）\n",
    "\n",
    "# 缺失值处理（金融数据常见操作）\n",
    "missing_ratio = train.isnull().mean().sort_values(ascending=False)\n",
    "# 可视化缺失值前20列\n",
    "plt.figure(figsize=(12, 8))\n",
    "missing_ratio[:20].plot(kind='barh')\n",
    "plt.title('Missing Value Ratio (Top 20 Columns)')\n",
    "plt.xlabel('Ratio')\n",
    "plt.savefig('missing_values.png')  # 保存图片用于GitHub\n",
    "plt.close()\n",
    "\n",
    "# 处理策略：数值型用中位数填充，类别型用众数填充\n",
    "num_cols = train.select_dtypes(include=['int64', 'float64']).columns\n",
    "cat_cols = train.select_dtypes(include=['object']).columns\n",
    "\n",
    "train[num_cols] = train[num_cols].fillna(train[num_cols].median())\n",
    "train[cat_cols] = train[cat_cols].fillna(train[cat_cols].mode().iloc[0])"
   ]
  },
  {
   "cell_type": "markdown",
   "id": "cd2942a4",
   "metadata": {
    "papermill": {
     "duration": 0.00297,
     "end_time": "2025-08-11T10:03:06.204828",
     "exception": false,
     "start_time": "2025-08-11T10:03:06.201858",
     "status": "completed"
    },
    "tags": []
   },
   "source": [
    "探索性数据分析（EDA）与可视化"
   ]
  },
  {
   "cell_type": "code",
   "execution_count": 4,
   "id": "71cb5e9c",
   "metadata": {
    "execution": {
     "iopub.execute_input": "2025-08-11T10:03:06.214830Z",
     "iopub.status.busy": "2025-08-11T10:03:06.214501Z",
     "iopub.status.idle": "2025-08-11T10:03:17.824297Z",
     "shell.execute_reply": "2025-08-11T10:03:17.823303Z"
    },
    "papermill": {
     "duration": 11.616318,
     "end_time": "2025-08-11T10:03:17.825989",
     "exception": false,
     "start_time": "2025-08-11T10:03:06.209671",
     "status": "completed"
    },
    "tags": []
   },
   "outputs": [],
   "source": [
    "# 1. 目标变量分布（查看样本是否不平衡）\n",
    "plt.figure(figsize=(6, 4))\n",
    "sns.countplot(x='TARGET', data=train)\n",
    "plt.title('Distribution of Default (1=Default)')\n",
    "plt.savefig('target_distribution.png')\n",
    "plt.close()\n",
    "\n",
    "# 2. 数值特征与违约的关系（以收入为例）\n",
    "plt.figure(figsize=(10, 6))\n",
    "sns.boxplot(x='TARGET', y='AMT_INCOME_TOTAL', data=train)\n",
    "plt.yscale('log')  # 收入数据长尾分布，用对数缩放\n",
    "plt.title('Income vs Default')\n",
    "plt.savefig('income_vs_default.png')\n",
    "plt.close()\n",
    "\n",
    "# 3. 类别特征与违约的关系（以婚姻状态为例）\n",
    "marriage_default = train.groupby('NAME_FAMILY_STATUS')['TARGET'].mean().sort_values()\n",
    "plt.figure(figsize=(10, 6))\n",
    "marriage_default.plot(kind='bar')\n",
    "plt.title('Default Rate by Marriage Status')\n",
    "plt.ylabel('Default Rate')\n",
    "plt.savefig('marriage_vs_default.png')\n",
    "plt.close()\n",
    "\n",
    "# 4. 特征相关性分析（识别多重共线性）\n",
    "corr = train[num_cols].corr()\n",
    "plt.figure(figsize=(12, 10))\n",
    "sns.heatmap(corr.iloc[:15, :15], annot=True, cmap='coolwarm', fmt='.2f')  # 取前15列可视化\n",
    "plt.title('Correlation Matrix of Numeric Features')\n",
    "plt.savefig('correlation_matrix.png')\n",
    "plt.close()"
   ]
  },
  {
   "cell_type": "markdown",
   "id": "7e4bcd89",
   "metadata": {
    "papermill": {
     "duration": 0.002664,
     "end_time": "2025-08-11T10:03:17.832049",
     "exception": false,
     "start_time": "2025-08-11T10:03:17.829385",
     "status": "completed"
    },
    "tags": []
   },
   "source": [
    "特征工程（风控核心环节）"
   ]
  },
  {
   "cell_type": "code",
   "execution_count": 5,
   "id": "cb115412",
   "metadata": {
    "execution": {
     "iopub.execute_input": "2025-08-11T10:03:17.839516Z",
     "iopub.status.busy": "2025-08-11T10:03:17.839172Z",
     "iopub.status.idle": "2025-08-11T10:03:22.130005Z",
     "shell.execute_reply": "2025-08-11T10:03:22.128679Z"
    },
    "papermill": {
     "duration": 4.296771,
     "end_time": "2025-08-11T10:03:22.131855",
     "exception": false,
     "start_time": "2025-08-11T10:03:17.835084",
     "status": "completed"
    },
    "tags": []
   },
   "outputs": [
    {
     "name": "stderr",
     "output_type": "stream",
     "text": [
      "/tmp/ipykernel_13/4067483250.py:10: PerformanceWarning: DataFrame is highly fragmented.  This is usually the result of calling `frame.insert` many times, which has poor performance.  Consider joining all columns at once using pd.concat(axis=1) instead. To get a de-fragmented frame, use `newframe = frame.copy()`\n",
      "  train['INCOME_CREDIT_RATIO'] = train['AMT_INCOME_TOTAL'] / train['AMT_CREDIT']\n",
      "/tmp/ipykernel_13/4067483250.py:12: PerformanceWarning: DataFrame is highly fragmented.  This is usually the result of calling `frame.insert` many times, which has poor performance.  Consider joining all columns at once using pd.concat(axis=1) instead. To get a de-fragmented frame, use `newframe = frame.copy()`\n",
      "  train['PERSONAL_INCOME'] = train['AMT_INCOME_TOTAL'] / (train['CNT_FAM_MEMBERS'] + 1)\n",
      "/tmp/ipykernel_13/4067483250.py:18: FutureWarning: The default of observed=False is deprecated and will be changed to True in a future version of pandas. Pass observed=False to retain current behavior or observed=True to adopt the future default and silence this warning.\n",
      "  grouped = df.groupby(binned)[target].agg(['count', 'sum'])\n",
      "/tmp/ipykernel_13/4067483250.py:18: FutureWarning: The default of observed=False is deprecated and will be changed to True in a future version of pandas. Pass observed=False to retain current behavior or observed=True to adopt the future default and silence this warning.\n",
      "  grouped = df.groupby(binned)[target].agg(['count', 'sum'])\n",
      "/tmp/ipykernel_13/4067483250.py:18: FutureWarning: The default of observed=False is deprecated and will be changed to True in a future version of pandas. Pass observed=False to retain current behavior or observed=True to adopt the future default and silence this warning.\n",
      "  grouped = df.groupby(binned)[target].agg(['count', 'sum'])\n",
      "/tmp/ipykernel_13/4067483250.py:18: FutureWarning: The default of observed=False is deprecated and will be changed to True in a future version of pandas. Pass observed=False to retain current behavior or observed=True to adopt the future default and silence this warning.\n",
      "  grouped = df.groupby(binned)[target].agg(['count', 'sum'])\n",
      "/tmp/ipykernel_13/4067483250.py:18: FutureWarning: The default of observed=False is deprecated and will be changed to True in a future version of pandas. Pass observed=False to retain current behavior or observed=True to adopt the future default and silence this warning.\n",
      "  grouped = df.groupby(binned)[target].agg(['count', 'sum'])\n",
      "/tmp/ipykernel_13/4067483250.py:18: FutureWarning: The default of observed=False is deprecated and will be changed to True in a future version of pandas. Pass observed=False to retain current behavior or observed=True to adopt the future default and silence this warning.\n",
      "  grouped = df.groupby(binned)[target].agg(['count', 'sum'])\n",
      "/tmp/ipykernel_13/4067483250.py:18: FutureWarning: The default of observed=False is deprecated and will be changed to True in a future version of pandas. Pass observed=False to retain current behavior or observed=True to adopt the future default and silence this warning.\n",
      "  grouped = df.groupby(binned)[target].agg(['count', 'sum'])\n",
      "/tmp/ipykernel_13/4067483250.py:18: FutureWarning: The default of observed=False is deprecated and will be changed to True in a future version of pandas. Pass observed=False to retain current behavior or observed=True to adopt the future default and silence this warning.\n",
      "  grouped = df.groupby(binned)[target].agg(['count', 'sum'])\n",
      "/tmp/ipykernel_13/4067483250.py:18: FutureWarning: The default of observed=False is deprecated and will be changed to True in a future version of pandas. Pass observed=False to retain current behavior or observed=True to adopt the future default and silence this warning.\n",
      "  grouped = df.groupby(binned)[target].agg(['count', 'sum'])\n",
      "/tmp/ipykernel_13/4067483250.py:18: FutureWarning: The default of observed=False is deprecated and will be changed to True in a future version of pandas. Pass observed=False to retain current behavior or observed=True to adopt the future default and silence this warning.\n",
      "  grouped = df.groupby(binned)[target].agg(['count', 'sum'])\n",
      "/tmp/ipykernel_13/4067483250.py:18: FutureWarning: The default of observed=False is deprecated and will be changed to True in a future version of pandas. Pass observed=False to retain current behavior or observed=True to adopt the future default and silence this warning.\n",
      "  grouped = df.groupby(binned)[target].agg(['count', 'sum'])\n",
      "/tmp/ipykernel_13/4067483250.py:18: FutureWarning: The default of observed=False is deprecated and will be changed to True in a future version of pandas. Pass observed=False to retain current behavior or observed=True to adopt the future default and silence this warning.\n",
      "  grouped = df.groupby(binned)[target].agg(['count', 'sum'])\n",
      "/tmp/ipykernel_13/4067483250.py:18: FutureWarning: The default of observed=False is deprecated and will be changed to True in a future version of pandas. Pass observed=False to retain current behavior or observed=True to adopt the future default and silence this warning.\n",
      "  grouped = df.groupby(binned)[target].agg(['count', 'sum'])\n",
      "/tmp/ipykernel_13/4067483250.py:18: FutureWarning: The default of observed=False is deprecated and will be changed to True in a future version of pandas. Pass observed=False to retain current behavior or observed=True to adopt the future default and silence this warning.\n",
      "  grouped = df.groupby(binned)[target].agg(['count', 'sum'])\n",
      "/tmp/ipykernel_13/4067483250.py:18: FutureWarning: The default of observed=False is deprecated and will be changed to True in a future version of pandas. Pass observed=False to retain current behavior or observed=True to adopt the future default and silence this warning.\n",
      "  grouped = df.groupby(binned)[target].agg(['count', 'sum'])\n",
      "/tmp/ipykernel_13/4067483250.py:18: FutureWarning: The default of observed=False is deprecated and will be changed to True in a future version of pandas. Pass observed=False to retain current behavior or observed=True to adopt the future default and silence this warning.\n",
      "  grouped = df.groupby(binned)[target].agg(['count', 'sum'])\n",
      "/tmp/ipykernel_13/4067483250.py:18: FutureWarning: The default of observed=False is deprecated and will be changed to True in a future version of pandas. Pass observed=False to retain current behavior or observed=True to adopt the future default and silence this warning.\n",
      "  grouped = df.groupby(binned)[target].agg(['count', 'sum'])\n",
      "/tmp/ipykernel_13/4067483250.py:18: FutureWarning: The default of observed=False is deprecated and will be changed to True in a future version of pandas. Pass observed=False to retain current behavior or observed=True to adopt the future default and silence this warning.\n",
      "  grouped = df.groupby(binned)[target].agg(['count', 'sum'])\n",
      "/tmp/ipykernel_13/4067483250.py:18: FutureWarning: The default of observed=False is deprecated and will be changed to True in a future version of pandas. Pass observed=False to retain current behavior or observed=True to adopt the future default and silence this warning.\n",
      "  grouped = df.groupby(binned)[target].agg(['count', 'sum'])\n",
      "/tmp/ipykernel_13/4067483250.py:18: FutureWarning: The default of observed=False is deprecated and will be changed to True in a future version of pandas. Pass observed=False to retain current behavior or observed=True to adopt the future default and silence this warning.\n",
      "  grouped = df.groupby(binned)[target].agg(['count', 'sum'])\n",
      "/tmp/ipykernel_13/4067483250.py:18: FutureWarning: The default of observed=False is deprecated and will be changed to True in a future version of pandas. Pass observed=False to retain current behavior or observed=True to adopt the future default and silence this warning.\n",
      "  grouped = df.groupby(binned)[target].agg(['count', 'sum'])\n",
      "/tmp/ipykernel_13/4067483250.py:18: FutureWarning: The default of observed=False is deprecated and will be changed to True in a future version of pandas. Pass observed=False to retain current behavior or observed=True to adopt the future default and silence this warning.\n",
      "  grouped = df.groupby(binned)[target].agg(['count', 'sum'])\n",
      "/tmp/ipykernel_13/4067483250.py:18: FutureWarning: The default of observed=False is deprecated and will be changed to True in a future version of pandas. Pass observed=False to retain current behavior or observed=True to adopt the future default and silence this warning.\n",
      "  grouped = df.groupby(binned)[target].agg(['count', 'sum'])\n",
      "/tmp/ipykernel_13/4067483250.py:18: FutureWarning: The default of observed=False is deprecated and will be changed to True in a future version of pandas. Pass observed=False to retain current behavior or observed=True to adopt the future default and silence this warning.\n",
      "  grouped = df.groupby(binned)[target].agg(['count', 'sum'])\n",
      "/tmp/ipykernel_13/4067483250.py:18: FutureWarning: The default of observed=False is deprecated and will be changed to True in a future version of pandas. Pass observed=False to retain current behavior or observed=True to adopt the future default and silence this warning.\n",
      "  grouped = df.groupby(binned)[target].agg(['count', 'sum'])\n",
      "/tmp/ipykernel_13/4067483250.py:18: FutureWarning: The default of observed=False is deprecated and will be changed to True in a future version of pandas. Pass observed=False to retain current behavior or observed=True to adopt the future default and silence this warning.\n",
      "  grouped = df.groupby(binned)[target].agg(['count', 'sum'])\n",
      "/tmp/ipykernel_13/4067483250.py:18: FutureWarning: The default of observed=False is deprecated and will be changed to True in a future version of pandas. Pass observed=False to retain current behavior or observed=True to adopt the future default and silence this warning.\n",
      "  grouped = df.groupby(binned)[target].agg(['count', 'sum'])\n",
      "/tmp/ipykernel_13/4067483250.py:18: FutureWarning: The default of observed=False is deprecated and will be changed to True in a future version of pandas. Pass observed=False to retain current behavior or observed=True to adopt the future default and silence this warning.\n",
      "  grouped = df.groupby(binned)[target].agg(['count', 'sum'])\n",
      "/tmp/ipykernel_13/4067483250.py:18: FutureWarning: The default of observed=False is deprecated and will be changed to True in a future version of pandas. Pass observed=False to retain current behavior or observed=True to adopt the future default and silence this warning.\n",
      "  grouped = df.groupby(binned)[target].agg(['count', 'sum'])\n",
      "/tmp/ipykernel_13/4067483250.py:18: FutureWarning: The default of observed=False is deprecated and will be changed to True in a future version of pandas. Pass observed=False to retain current behavior or observed=True to adopt the future default and silence this warning.\n",
      "  grouped = df.groupby(binned)[target].agg(['count', 'sum'])\n",
      "/tmp/ipykernel_13/4067483250.py:18: FutureWarning: The default of observed=False is deprecated and will be changed to True in a future version of pandas. Pass observed=False to retain current behavior or observed=True to adopt the future default and silence this warning.\n",
      "  grouped = df.groupby(binned)[target].agg(['count', 'sum'])\n",
      "/tmp/ipykernel_13/4067483250.py:18: FutureWarning: The default of observed=False is deprecated and will be changed to True in a future version of pandas. Pass observed=False to retain current behavior or observed=True to adopt the future default and silence this warning.\n",
      "  grouped = df.groupby(binned)[target].agg(['count', 'sum'])\n",
      "/tmp/ipykernel_13/4067483250.py:18: FutureWarning: The default of observed=False is deprecated and will be changed to True in a future version of pandas. Pass observed=False to retain current behavior or observed=True to adopt the future default and silence this warning.\n",
      "  grouped = df.groupby(binned)[target].agg(['count', 'sum'])\n",
      "/tmp/ipykernel_13/4067483250.py:18: FutureWarning: The default of observed=False is deprecated and will be changed to True in a future version of pandas. Pass observed=False to retain current behavior or observed=True to adopt the future default and silence this warning.\n",
      "  grouped = df.groupby(binned)[target].agg(['count', 'sum'])\n",
      "/tmp/ipykernel_13/4067483250.py:18: FutureWarning: The default of observed=False is deprecated and will be changed to True in a future version of pandas. Pass observed=False to retain current behavior or observed=True to adopt the future default and silence this warning.\n",
      "  grouped = df.groupby(binned)[target].agg(['count', 'sum'])\n",
      "/tmp/ipykernel_13/4067483250.py:18: FutureWarning: The default of observed=False is deprecated and will be changed to True in a future version of pandas. Pass observed=False to retain current behavior or observed=True to adopt the future default and silence this warning.\n",
      "  grouped = df.groupby(binned)[target].agg(['count', 'sum'])\n",
      "/tmp/ipykernel_13/4067483250.py:18: FutureWarning: The default of observed=False is deprecated and will be changed to True in a future version of pandas. Pass observed=False to retain current behavior or observed=True to adopt the future default and silence this warning.\n",
      "  grouped = df.groupby(binned)[target].agg(['count', 'sum'])\n",
      "/tmp/ipykernel_13/4067483250.py:18: FutureWarning: The default of observed=False is deprecated and will be changed to True in a future version of pandas. Pass observed=False to retain current behavior or observed=True to adopt the future default and silence this warning.\n",
      "  grouped = df.groupby(binned)[target].agg(['count', 'sum'])\n",
      "/tmp/ipykernel_13/4067483250.py:18: FutureWarning: The default of observed=False is deprecated and will be changed to True in a future version of pandas. Pass observed=False to retain current behavior or observed=True to adopt the future default and silence this warning.\n",
      "  grouped = df.groupby(binned)[target].agg(['count', 'sum'])\n",
      "/tmp/ipykernel_13/4067483250.py:18: FutureWarning: The default of observed=False is deprecated and will be changed to True in a future version of pandas. Pass observed=False to retain current behavior or observed=True to adopt the future default and silence this warning.\n",
      "  grouped = df.groupby(binned)[target].agg(['count', 'sum'])\n",
      "/tmp/ipykernel_13/4067483250.py:18: FutureWarning: The default of observed=False is deprecated and will be changed to True in a future version of pandas. Pass observed=False to retain current behavior or observed=True to adopt the future default and silence this warning.\n",
      "  grouped = df.groupby(binned)[target].agg(['count', 'sum'])\n",
      "/tmp/ipykernel_13/4067483250.py:18: FutureWarning: The default of observed=False is deprecated and will be changed to True in a future version of pandas. Pass observed=False to retain current behavior or observed=True to adopt the future default and silence this warning.\n",
      "  grouped = df.groupby(binned)[target].agg(['count', 'sum'])\n",
      "/tmp/ipykernel_13/4067483250.py:18: FutureWarning: The default of observed=False is deprecated and will be changed to True in a future version of pandas. Pass observed=False to retain current behavior or observed=True to adopt the future default and silence this warning.\n",
      "  grouped = df.groupby(binned)[target].agg(['count', 'sum'])\n",
      "/tmp/ipykernel_13/4067483250.py:18: FutureWarning: The default of observed=False is deprecated and will be changed to True in a future version of pandas. Pass observed=False to retain current behavior or observed=True to adopt the future default and silence this warning.\n",
      "  grouped = df.groupby(binned)[target].agg(['count', 'sum'])\n",
      "/tmp/ipykernel_13/4067483250.py:18: FutureWarning: The default of observed=False is deprecated and will be changed to True in a future version of pandas. Pass observed=False to retain current behavior or observed=True to adopt the future default and silence this warning.\n",
      "  grouped = df.groupby(binned)[target].agg(['count', 'sum'])\n",
      "/tmp/ipykernel_13/4067483250.py:18: FutureWarning: The default of observed=False is deprecated and will be changed to True in a future version of pandas. Pass observed=False to retain current behavior or observed=True to adopt the future default and silence this warning.\n",
      "  grouped = df.groupby(binned)[target].agg(['count', 'sum'])\n",
      "/tmp/ipykernel_13/4067483250.py:18: FutureWarning: The default of observed=False is deprecated and will be changed to True in a future version of pandas. Pass observed=False to retain current behavior or observed=True to adopt the future default and silence this warning.\n",
      "  grouped = df.groupby(binned)[target].agg(['count', 'sum'])\n",
      "/tmp/ipykernel_13/4067483250.py:18: FutureWarning: The default of observed=False is deprecated and will be changed to True in a future version of pandas. Pass observed=False to retain current behavior or observed=True to adopt the future default and silence this warning.\n",
      "  grouped = df.groupby(binned)[target].agg(['count', 'sum'])\n",
      "/tmp/ipykernel_13/4067483250.py:18: FutureWarning: The default of observed=False is deprecated and will be changed to True in a future version of pandas. Pass observed=False to retain current behavior or observed=True to adopt the future default and silence this warning.\n",
      "  grouped = df.groupby(binned)[target].agg(['count', 'sum'])\n",
      "/tmp/ipykernel_13/4067483250.py:18: FutureWarning: The default of observed=False is deprecated and will be changed to True in a future version of pandas. Pass observed=False to retain current behavior or observed=True to adopt the future default and silence this warning.\n",
      "  grouped = df.groupby(binned)[target].agg(['count', 'sum'])\n",
      "/tmp/ipykernel_13/4067483250.py:18: FutureWarning: The default of observed=False is deprecated and will be changed to True in a future version of pandas. Pass observed=False to retain current behavior or observed=True to adopt the future default and silence this warning.\n",
      "  grouped = df.groupby(binned)[target].agg(['count', 'sum'])\n",
      "/tmp/ipykernel_13/4067483250.py:18: FutureWarning: The default of observed=False is deprecated and will be changed to True in a future version of pandas. Pass observed=False to retain current behavior or observed=True to adopt the future default and silence this warning.\n",
      "  grouped = df.groupby(binned)[target].agg(['count', 'sum'])\n",
      "/tmp/ipykernel_13/4067483250.py:18: FutureWarning: The default of observed=False is deprecated and will be changed to True in a future version of pandas. Pass observed=False to retain current behavior or observed=True to adopt the future default and silence this warning.\n",
      "  grouped = df.groupby(binned)[target].agg(['count', 'sum'])\n",
      "/tmp/ipykernel_13/4067483250.py:18: FutureWarning: The default of observed=False is deprecated and will be changed to True in a future version of pandas. Pass observed=False to retain current behavior or observed=True to adopt the future default and silence this warning.\n",
      "  grouped = df.groupby(binned)[target].agg(['count', 'sum'])\n",
      "/tmp/ipykernel_13/4067483250.py:18: FutureWarning: The default of observed=False is deprecated and will be changed to True in a future version of pandas. Pass observed=False to retain current behavior or observed=True to adopt the future default and silence this warning.\n",
      "  grouped = df.groupby(binned)[target].agg(['count', 'sum'])\n",
      "/tmp/ipykernel_13/4067483250.py:18: FutureWarning: The default of observed=False is deprecated and will be changed to True in a future version of pandas. Pass observed=False to retain current behavior or observed=True to adopt the future default and silence this warning.\n",
      "  grouped = df.groupby(binned)[target].agg(['count', 'sum'])\n",
      "/tmp/ipykernel_13/4067483250.py:18: FutureWarning: The default of observed=False is deprecated and will be changed to True in a future version of pandas. Pass observed=False to retain current behavior or observed=True to adopt the future default and silence this warning.\n",
      "  grouped = df.groupby(binned)[target].agg(['count', 'sum'])\n",
      "/tmp/ipykernel_13/4067483250.py:18: FutureWarning: The default of observed=False is deprecated and will be changed to True in a future version of pandas. Pass observed=False to retain current behavior or observed=True to adopt the future default and silence this warning.\n",
      "  grouped = df.groupby(binned)[target].agg(['count', 'sum'])\n",
      "/tmp/ipykernel_13/4067483250.py:18: FutureWarning: The default of observed=False is deprecated and will be changed to True in a future version of pandas. Pass observed=False to retain current behavior or observed=True to adopt the future default and silence this warning.\n",
      "  grouped = df.groupby(binned)[target].agg(['count', 'sum'])\n",
      "/tmp/ipykernel_13/4067483250.py:18: FutureWarning: The default of observed=False is deprecated and will be changed to True in a future version of pandas. Pass observed=False to retain current behavior or observed=True to adopt the future default and silence this warning.\n",
      "  grouped = df.groupby(binned)[target].agg(['count', 'sum'])\n",
      "/tmp/ipykernel_13/4067483250.py:18: FutureWarning: The default of observed=False is deprecated and will be changed to True in a future version of pandas. Pass observed=False to retain current behavior or observed=True to adopt the future default and silence this warning.\n",
      "  grouped = df.groupby(binned)[target].agg(['count', 'sum'])\n",
      "/tmp/ipykernel_13/4067483250.py:18: FutureWarning: The default of observed=False is deprecated and will be changed to True in a future version of pandas. Pass observed=False to retain current behavior or observed=True to adopt the future default and silence this warning.\n",
      "  grouped = df.groupby(binned)[target].agg(['count', 'sum'])\n",
      "/tmp/ipykernel_13/4067483250.py:18: FutureWarning: The default of observed=False is deprecated and will be changed to True in a future version of pandas. Pass observed=False to retain current behavior or observed=True to adopt the future default and silence this warning.\n",
      "  grouped = df.groupby(binned)[target].agg(['count', 'sum'])\n",
      "/tmp/ipykernel_13/4067483250.py:18: FutureWarning: The default of observed=False is deprecated and will be changed to True in a future version of pandas. Pass observed=False to retain current behavior or observed=True to adopt the future default and silence this warning.\n",
      "  grouped = df.groupby(binned)[target].agg(['count', 'sum'])\n",
      "/tmp/ipykernel_13/4067483250.py:18: FutureWarning: The default of observed=False is deprecated and will be changed to True in a future version of pandas. Pass observed=False to retain current behavior or observed=True to adopt the future default and silence this warning.\n",
      "  grouped = df.groupby(binned)[target].agg(['count', 'sum'])\n",
      "/tmp/ipykernel_13/4067483250.py:18: FutureWarning: The default of observed=False is deprecated and will be changed to True in a future version of pandas. Pass observed=False to retain current behavior or observed=True to adopt the future default and silence this warning.\n",
      "  grouped = df.groupby(binned)[target].agg(['count', 'sum'])\n",
      "/tmp/ipykernel_13/4067483250.py:18: FutureWarning: The default of observed=False is deprecated and will be changed to True in a future version of pandas. Pass observed=False to retain current behavior or observed=True to adopt the future default and silence this warning.\n",
      "  grouped = df.groupby(binned)[target].agg(['count', 'sum'])\n",
      "/tmp/ipykernel_13/4067483250.py:18: FutureWarning: The default of observed=False is deprecated and will be changed to True in a future version of pandas. Pass observed=False to retain current behavior or observed=True to adopt the future default and silence this warning.\n",
      "  grouped = df.groupby(binned)[target].agg(['count', 'sum'])\n",
      "/tmp/ipykernel_13/4067483250.py:18: FutureWarning: The default of observed=False is deprecated and will be changed to True in a future version of pandas. Pass observed=False to retain current behavior or observed=True to adopt the future default and silence this warning.\n",
      "  grouped = df.groupby(binned)[target].agg(['count', 'sum'])\n",
      "/tmp/ipykernel_13/4067483250.py:18: FutureWarning: The default of observed=False is deprecated and will be changed to True in a future version of pandas. Pass observed=False to retain current behavior or observed=True to adopt the future default and silence this warning.\n",
      "  grouped = df.groupby(binned)[target].agg(['count', 'sum'])\n",
      "/tmp/ipykernel_13/4067483250.py:18: FutureWarning: The default of observed=False is deprecated and will be changed to True in a future version of pandas. Pass observed=False to retain current behavior or observed=True to adopt the future default and silence this warning.\n",
      "  grouped = df.groupby(binned)[target].agg(['count', 'sum'])\n",
      "/tmp/ipykernel_13/4067483250.py:18: FutureWarning: The default of observed=False is deprecated and will be changed to True in a future version of pandas. Pass observed=False to retain current behavior or observed=True to adopt the future default and silence this warning.\n",
      "  grouped = df.groupby(binned)[target].agg(['count', 'sum'])\n",
      "/tmp/ipykernel_13/4067483250.py:18: FutureWarning: The default of observed=False is deprecated and will be changed to True in a future version of pandas. Pass observed=False to retain current behavior or observed=True to adopt the future default and silence this warning.\n",
      "  grouped = df.groupby(binned)[target].agg(['count', 'sum'])\n",
      "/tmp/ipykernel_13/4067483250.py:18: FutureWarning: The default of observed=False is deprecated and will be changed to True in a future version of pandas. Pass observed=False to retain current behavior or observed=True to adopt the future default and silence this warning.\n",
      "  grouped = df.groupby(binned)[target].agg(['count', 'sum'])\n",
      "/tmp/ipykernel_13/4067483250.py:18: FutureWarning: The default of observed=False is deprecated and will be changed to True in a future version of pandas. Pass observed=False to retain current behavior or observed=True to adopt the future default and silence this warning.\n",
      "  grouped = df.groupby(binned)[target].agg(['count', 'sum'])\n",
      "/tmp/ipykernel_13/4067483250.py:18: FutureWarning: The default of observed=False is deprecated and will be changed to True in a future version of pandas. Pass observed=False to retain current behavior or observed=True to adopt the future default and silence this warning.\n",
      "  grouped = df.groupby(binned)[target].agg(['count', 'sum'])\n",
      "/tmp/ipykernel_13/4067483250.py:18: FutureWarning: The default of observed=False is deprecated and will be changed to True in a future version of pandas. Pass observed=False to retain current behavior or observed=True to adopt the future default and silence this warning.\n",
      "  grouped = df.groupby(binned)[target].agg(['count', 'sum'])\n",
      "/tmp/ipykernel_13/4067483250.py:18: FutureWarning: The default of observed=False is deprecated and will be changed to True in a future version of pandas. Pass observed=False to retain current behavior or observed=True to adopt the future default and silence this warning.\n",
      "  grouped = df.groupby(binned)[target].agg(['count', 'sum'])\n",
      "/tmp/ipykernel_13/4067483250.py:18: FutureWarning: The default of observed=False is deprecated and will be changed to True in a future version of pandas. Pass observed=False to retain current behavior or observed=True to adopt the future default and silence this warning.\n",
      "  grouped = df.groupby(binned)[target].agg(['count', 'sum'])\n",
      "/tmp/ipykernel_13/4067483250.py:18: FutureWarning: The default of observed=False is deprecated and will be changed to True in a future version of pandas. Pass observed=False to retain current behavior or observed=True to adopt the future default and silence this warning.\n",
      "  grouped = df.groupby(binned)[target].agg(['count', 'sum'])\n",
      "/tmp/ipykernel_13/4067483250.py:18: FutureWarning: The default of observed=False is deprecated and will be changed to True in a future version of pandas. Pass observed=False to retain current behavior or observed=True to adopt the future default and silence this warning.\n",
      "  grouped = df.groupby(binned)[target].agg(['count', 'sum'])\n",
      "/tmp/ipykernel_13/4067483250.py:18: FutureWarning: The default of observed=False is deprecated and will be changed to True in a future version of pandas. Pass observed=False to retain current behavior or observed=True to adopt the future default and silence this warning.\n",
      "  grouped = df.groupby(binned)[target].agg(['count', 'sum'])\n",
      "/tmp/ipykernel_13/4067483250.py:18: FutureWarning: The default of observed=False is deprecated and will be changed to True in a future version of pandas. Pass observed=False to retain current behavior or observed=True to adopt the future default and silence this warning.\n",
      "  grouped = df.groupby(binned)[target].agg(['count', 'sum'])\n",
      "/tmp/ipykernel_13/4067483250.py:18: FutureWarning: The default of observed=False is deprecated and will be changed to True in a future version of pandas. Pass observed=False to retain current behavior or observed=True to adopt the future default and silence this warning.\n",
      "  grouped = df.groupby(binned)[target].agg(['count', 'sum'])\n",
      "/tmp/ipykernel_13/4067483250.py:18: FutureWarning: The default of observed=False is deprecated and will be changed to True in a future version of pandas. Pass observed=False to retain current behavior or observed=True to adopt the future default and silence this warning.\n",
      "  grouped = df.groupby(binned)[target].agg(['count', 'sum'])\n",
      "/tmp/ipykernel_13/4067483250.py:18: FutureWarning: The default of observed=False is deprecated and will be changed to True in a future version of pandas. Pass observed=False to retain current behavior or observed=True to adopt the future default and silence this warning.\n",
      "  grouped = df.groupby(binned)[target].agg(['count', 'sum'])\n",
      "/tmp/ipykernel_13/4067483250.py:18: FutureWarning: The default of observed=False is deprecated and will be changed to True in a future version of pandas. Pass observed=False to retain current behavior or observed=True to adopt the future default and silence this warning.\n",
      "  grouped = df.groupby(binned)[target].agg(['count', 'sum'])\n",
      "/tmp/ipykernel_13/4067483250.py:18: FutureWarning: The default of observed=False is deprecated and will be changed to True in a future version of pandas. Pass observed=False to retain current behavior or observed=True to adopt the future default and silence this warning.\n",
      "  grouped = df.groupby(binned)[target].agg(['count', 'sum'])\n",
      "/tmp/ipykernel_13/4067483250.py:18: FutureWarning: The default of observed=False is deprecated and will be changed to True in a future version of pandas. Pass observed=False to retain current behavior or observed=True to adopt the future default and silence this warning.\n",
      "  grouped = df.groupby(binned)[target].agg(['count', 'sum'])\n",
      "/tmp/ipykernel_13/4067483250.py:18: FutureWarning: The default of observed=False is deprecated and will be changed to True in a future version of pandas. Pass observed=False to retain current behavior or observed=True to adopt the future default and silence this warning.\n",
      "  grouped = df.groupby(binned)[target].agg(['count', 'sum'])\n",
      "/tmp/ipykernel_13/4067483250.py:18: FutureWarning: The default of observed=False is deprecated and will be changed to True in a future version of pandas. Pass observed=False to retain current behavior or observed=True to adopt the future default and silence this warning.\n",
      "  grouped = df.groupby(binned)[target].agg(['count', 'sum'])\n",
      "/tmp/ipykernel_13/4067483250.py:18: FutureWarning: The default of observed=False is deprecated and will be changed to True in a future version of pandas. Pass observed=False to retain current behavior or observed=True to adopt the future default and silence this warning.\n",
      "  grouped = df.groupby(binned)[target].agg(['count', 'sum'])\n",
      "/tmp/ipykernel_13/4067483250.py:18: FutureWarning: The default of observed=False is deprecated and will be changed to True in a future version of pandas. Pass observed=False to retain current behavior or observed=True to adopt the future default and silence this warning.\n",
      "  grouped = df.groupby(binned)[target].agg(['count', 'sum'])\n",
      "/tmp/ipykernel_13/4067483250.py:18: FutureWarning: The default of observed=False is deprecated and will be changed to True in a future version of pandas. Pass observed=False to retain current behavior or observed=True to adopt the future default and silence this warning.\n",
      "  grouped = df.groupby(binned)[target].agg(['count', 'sum'])\n",
      "/tmp/ipykernel_13/4067483250.py:18: FutureWarning: The default of observed=False is deprecated and will be changed to True in a future version of pandas. Pass observed=False to retain current behavior or observed=True to adopt the future default and silence this warning.\n",
      "  grouped = df.groupby(binned)[target].agg(['count', 'sum'])\n",
      "/tmp/ipykernel_13/4067483250.py:18: FutureWarning: The default of observed=False is deprecated and will be changed to True in a future version of pandas. Pass observed=False to retain current behavior or observed=True to adopt the future default and silence this warning.\n",
      "  grouped = df.groupby(binned)[target].agg(['count', 'sum'])\n",
      "/tmp/ipykernel_13/4067483250.py:18: FutureWarning: The default of observed=False is deprecated and will be changed to True in a future version of pandas. Pass observed=False to retain current behavior or observed=True to adopt the future default and silence this warning.\n",
      "  grouped = df.groupby(binned)[target].agg(['count', 'sum'])\n",
      "/tmp/ipykernel_13/4067483250.py:18: FutureWarning: The default of observed=False is deprecated and will be changed to True in a future version of pandas. Pass observed=False to retain current behavior or observed=True to adopt the future default and silence this warning.\n",
      "  grouped = df.groupby(binned)[target].agg(['count', 'sum'])\n",
      "/tmp/ipykernel_13/4067483250.py:18: FutureWarning: The default of observed=False is deprecated and will be changed to True in a future version of pandas. Pass observed=False to retain current behavior or observed=True to adopt the future default and silence this warning.\n",
      "  grouped = df.groupby(binned)[target].agg(['count', 'sum'])\n",
      "/tmp/ipykernel_13/4067483250.py:18: FutureWarning: The default of observed=False is deprecated and will be changed to True in a future version of pandas. Pass observed=False to retain current behavior or observed=True to adopt the future default and silence this warning.\n",
      "  grouped = df.groupby(binned)[target].agg(['count', 'sum'])\n",
      "/tmp/ipykernel_13/4067483250.py:18: FutureWarning: The default of observed=False is deprecated and will be changed to True in a future version of pandas. Pass observed=False to retain current behavior or observed=True to adopt the future default and silence this warning.\n",
      "  grouped = df.groupby(binned)[target].agg(['count', 'sum'])\n",
      "/tmp/ipykernel_13/4067483250.py:18: FutureWarning: The default of observed=False is deprecated and will be changed to True in a future version of pandas. Pass observed=False to retain current behavior or observed=True to adopt the future default and silence this warning.\n",
      "  grouped = df.groupby(binned)[target].agg(['count', 'sum'])\n"
     ]
    },
    {
     "name": "stdout",
     "output_type": "stream",
     "text": [
      "有效特征数量：20\n"
     ]
    },
    {
     "name": "stderr",
     "output_type": "stream",
     "text": [
      "/tmp/ipykernel_13/4067483250.py:18: FutureWarning: The default of observed=False is deprecated and will be changed to True in a future version of pandas. Pass observed=False to retain current behavior or observed=True to adopt the future default and silence this warning.\n",
      "  grouped = df.groupby(binned)[target].agg(['count', 'sum'])\n",
      "/tmp/ipykernel_13/4067483250.py:18: FutureWarning: The default of observed=False is deprecated and will be changed to True in a future version of pandas. Pass observed=False to retain current behavior or observed=True to adopt the future default and silence this warning.\n",
      "  grouped = df.groupby(binned)[target].agg(['count', 'sum'])\n",
      "/tmp/ipykernel_13/4067483250.py:18: FutureWarning: The default of observed=False is deprecated and will be changed to True in a future version of pandas. Pass observed=False to retain current behavior or observed=True to adopt the future default and silence this warning.\n",
      "  grouped = df.groupby(binned)[target].agg(['count', 'sum'])\n"
     ]
    }
   ],
   "source": [
    "# 1. 类别特征编码（风控常用LabelEncoder）\n",
    "from sklearn.preprocessing import LabelEncoder\n",
    "\n",
    "for col in cat_cols:\n",
    "    le = LabelEncoder()\n",
    "    train[col] = le.fit_transform(train[col].astype(str))  # 避免空值影响\n",
    "\n",
    "# 2. 衍生特征（体现业务理解）\n",
    "# 例1：收入与信贷金额比（反映还款压力）\n",
    "train['INCOME_CREDIT_RATIO'] = train['AMT_INCOME_TOTAL'] / train['AMT_CREDIT']\n",
    "# 例2：家庭人均收入\n",
    "train['PERSONAL_INCOME'] = train['AMT_INCOME_TOTAL'] / (train['CNT_FAM_MEMBERS'] + 1)\n",
    "\n",
    "# 3. 特征筛选（基于IV值，风控中用于衡量特征预测能力）\n",
    "def calculate_iv(df, feature, target):\n",
    "    \"\"\"计算特征的信息价值（IV）\"\"\"\n",
    "    binned = pd.qcut(df[feature], 10, duplicates='drop')  # 分10箱\n",
    "    grouped = df.groupby(binned)[target].agg(['count', 'sum'])\n",
    "    grouped['bad'] = grouped['sum']\n",
    "    grouped['good'] = grouped['count'] - grouped['sum']\n",
    "    grouped['bad_rate'] = grouped['bad'] / grouped['bad'].sum()\n",
    "    grouped['good_rate'] = grouped['good'] / grouped['good'].sum()\n",
    "    grouped['iv'] = (grouped['bad_rate'] - grouped['good_rate']) * np.log((grouped['bad_rate'] + 1e-10) / (grouped['good_rate'] + 1e-10))\n",
    "    return grouped['iv'].sum()\n",
    "\n",
    "# 计算所有特征的IV值，筛选IV>0.1的特征（风控中IV>0.1为有效特征）\n",
    "iv_values = {}\n",
    "for col in num_cols:\n",
    "    if col != 'TARGET':\n",
    "        iv = calculate_iv(train, col, 'TARGET')\n",
    "        iv_values[col] = iv\n",
    "\n",
    "valid_features = [k for k, v in iv_values.items() if v > 0.1] + list(cat_cols)\n",
    "print(f\"有效特征数量：{len(valid_features)}\")"
   ]
  },
  {
   "cell_type": "markdown",
   "id": "9147a240",
   "metadata": {
    "papermill": {
     "duration": 0.004058,
     "end_time": "2025-08-11T10:03:22.141362",
     "exception": false,
     "start_time": "2025-08-11T10:03:22.137304",
     "status": "completed"
    },
    "tags": []
   },
   "source": [
    "模型训练与评估"
   ]
  },
  {
   "cell_type": "code",
   "execution_count": 6,
   "id": "5b35a44d",
   "metadata": {
    "execution": {
     "iopub.execute_input": "2025-08-11T10:03:22.153925Z",
     "iopub.status.busy": "2025-08-11T10:03:22.152002Z",
     "iopub.status.idle": "2025-08-11T10:03:23.050945Z",
     "shell.execute_reply": "2025-08-11T10:03:23.049753Z"
    },
    "papermill": {
     "duration": 0.907073,
     "end_time": "2025-08-11T10:03:23.052680",
     "exception": false,
     "start_time": "2025-08-11T10:03:22.145607",
     "status": "completed"
    },
    "tags": []
   },
   "outputs": [
    {
     "name": "stdout",
     "output_type": "stream",
     "text": [
      "测试集AUC：0.4731\n"
     ]
    }
   ],
   "source": [
    "from sklearn.model_selection import train_test_split\n",
    "from sklearn.linear_model import LogisticRegression  # 风控基础模型\n",
    "from sklearn.metrics import roc_auc_score, roc_curve, confusion_matrix\n",
    "\n",
    "# 划分训练集和测试集\n",
    "X = train[valid_features]\n",
    "y = train['TARGET']\n",
    "X_train, X_test, y_train, y_test = train_test_split(X, y, test_size=0.2, random_state=42, stratify=y)\n",
    "\n",
    "# 训练逻辑回归模型（风控中可解释性优先）\n",
    "model = LogisticRegression(max_iter=1000, class_weight='balanced')  # 处理样本不平衡\n",
    "model.fit(X_train, y_train)\n",
    "\n",
    "# 评估AUC（风控核心指标）\n",
    "y_pred_proba = model.predict_proba(X_test)[:, 1]\n",
    "auc = roc_auc_score(y_test, y_pred_proba)\n",
    "print(f\"测试集AUC：{auc:.4f}\")\n",
    "\n",
    "# 绘制ROC曲线\n",
    "fpr, tpr, _ = roc_curve(y_test, y_pred_proba)\n",
    "plt.figure(figsize=(8, 6))\n",
    "plt.plot(fpr, tpr, label=f'ROC Curve (AUC = {auc:.4f})')\n",
    "plt.plot([0, 1], [0, 1], 'k--')\n",
    "plt.xlabel('False Positive Rate')\n",
    "plt.ylabel('True Positive Rate')\n",
    "plt.title('ROC Curve for Default Prediction')\n",
    "plt.legend()\n",
    "plt.savefig('roc_curve.png')\n",
    "plt.close()"
   ]
  }
 ],
 "metadata": {
  "kaggle": {
   "accelerator": "none",
   "dataSources": [
    {
     "databundleVersionId": 860599,
     "sourceId": 9120,
     "sourceType": "competition"
    }
   ],
   "isGpuEnabled": false,
   "isInternetEnabled": true,
   "language": "python",
   "sourceType": "notebook"
  },
  "kernelspec": {
   "display_name": "Python 3",
   "language": "python",
   "name": "python3"
  },
  "language_info": {
   "codemirror_mode": {
    "name": "ipython",
    "version": 3
   },
   "file_extension": ".py",
   "mimetype": "text/x-python",
   "name": "python",
   "nbconvert_exporter": "python",
   "pygments_lexer": "ipython3",
   "version": "3.11.13"
  },
  "papermill": {
   "default_parameters": {},
   "duration": 44.184494,
   "end_time": "2025-08-11T10:03:23.978383",
   "environment_variables": {},
   "exception": null,
   "input_path": "__notebook__.ipynb",
   "output_path": "__notebook__.ipynb",
   "parameters": {},
   "start_time": "2025-08-11T10:02:39.793889",
   "version": "2.6.0"
  }
 },
 "nbformat": 4,
 "nbformat_minor": 5
}
